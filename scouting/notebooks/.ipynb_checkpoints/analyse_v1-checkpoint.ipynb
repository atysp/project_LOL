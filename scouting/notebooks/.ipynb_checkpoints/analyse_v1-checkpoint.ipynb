{
 "cells": [
  {
   "cell_type": "markdown",
   "metadata": {},
   "source": [
    "# Importation"
   ]
  },
  {
   "cell_type": "code",
   "execution_count": 27,
   "metadata": {},
   "outputs": [
    {
     "name": "stdout",
     "output_type": "stream",
     "text": [
      "Chemin du dossier parent : /Users/atysp/Desktop/Avisia/projet_lol/scouting\n",
      "Le dataset a une taille de : (100, 75)\n"
     ]
    },
    {
     "data": {
      "text/html": [
       "<div>\n",
       "<style scoped>\n",
       "    .dataframe tbody tr th:only-of-type {\n",
       "        vertical-align: middle;\n",
       "    }\n",
       "\n",
       "    .dataframe tbody tr th {\n",
       "        vertical-align: top;\n",
       "    }\n",
       "\n",
       "    .dataframe thead th {\n",
       "        text-align: right;\n",
       "    }\n",
       "</style>\n",
       "<table border=\"1\" class=\"dataframe\">\n",
       "  <thead>\n",
       "    <tr style=\"text-align: right;\">\n",
       "      <th></th>\n",
       "      <th>matchId</th>\n",
       "      <th>participants</th>\n",
       "      <th>platformId</th>\n",
       "      <th>queueId</th>\n",
       "      <th>gameDuration</th>\n",
       "      <th>gameVersion</th>\n",
       "      <th>mapId</th>\n",
       "      <th>puuid</th>\n",
       "      <th>summonerName</th>\n",
       "      <th>teamId</th>\n",
       "      <th>win</th>\n",
       "      <th>individualPosition</th>\n",
       "      <th>championName</th>\n",
       "      <th>champExperience</th>\n",
       "      <th>kills</th>\n",
       "      <th>assists</th>\n",
       "      <th>deaths</th>\n",
       "      <th>kda</th>\n",
       "      <th>killParticipation</th>\n",
       "      <th>damagePerMinute</th>\n",
       "      <th>totalMinionsKilled</th>\n",
       "      <th>neutralMinionsKilled</th>\n",
       "      <th>goldPerMinute</th>\n",
       "      <th>goldDiffAt10</th>\n",
       "      <th>goldDiffAt15</th>\n",
       "      <th>expDiffAt10</th>\n",
       "      <th>expDiffAt15</th>\n",
       "      <th>csDiffAt10</th>\n",
       "      <th>csDiffAt15</th>\n",
       "      <th>soloKills</th>\n",
       "      <th>totalTimeCCDealt</th>\n",
       "      <th>timeCCingOthers</th>\n",
       "      <th>enemyChampionImmobilizations</th>\n",
       "      <th>teamDamagePercentage</th>\n",
       "      <th>damageTakenOnTeamPercentage</th>\n",
       "      <th>totalHeal</th>\n",
       "      <th>totalDamageDealtToChampions</th>\n",
       "      <th>visionScorePerMinute</th>\n",
       "      <th>wardsPlaced</th>\n",
       "      <th>controlWardsPlaced</th>\n",
       "      <th>stealthWardsPlaced</th>\n",
       "      <th>wardsGuarded</th>\n",
       "      <th>wardTakedowns</th>\n",
       "      <th>dragonTakedowns</th>\n",
       "      <th>baronTakedowns</th>\n",
       "      <th>riftHeraldTakedowns</th>\n",
       "      <th>turretTakedowns</th>\n",
       "      <th>inhibitorTakedowns</th>\n",
       "      <th>damageDealtToBuildings</th>\n",
       "      <th>damageDealtToObjectives</th>\n",
       "      <th>damageDealtToTurrets</th>\n",
       "      <th>firstTowerAssist</th>\n",
       "      <th>firstTowerKill</th>\n",
       "      <th>teamElderDragonKills</th>\n",
       "      <th>turretPlatesTaken</th>\n",
       "      <th>onMyWayPings</th>\n",
       "      <th>enemyMissingPings</th>\n",
       "      <th>allInPings</th>\n",
       "      <th>assistMePings</th>\n",
       "      <th>baitPings</th>\n",
       "      <th>basicPings</th>\n",
       "      <th>commandPings</th>\n",
       "      <th>dangerPings</th>\n",
       "      <th>getBackPings</th>\n",
       "      <th>holdPings</th>\n",
       "      <th>needVisionPings</th>\n",
       "      <th>pushPings</th>\n",
       "      <th>visionClearedPings</th>\n",
       "      <th>enemyVisionPings</th>\n",
       "      <th>ennemyTeamKills</th>\n",
       "      <th>ennemyTeamDeaths</th>\n",
       "      <th>ennemyTeamGolds</th>\n",
       "      <th>ennemyTeamWardPlaced</th>\n",
       "      <th>ennemyTeamTotalLvl</th>\n",
       "      <th>ennemyTeamDamages</th>\n",
       "    </tr>\n",
       "  </thead>\n",
       "  <tbody>\n",
       "    <tr>\n",
       "      <th>0</th>\n",
       "      <td>EUW1_6528747599</td>\n",
       "      <td>KJLobfhi20s2V45keoOTQpX8CSmNGx15o6iM27wV2xUTk0...</td>\n",
       "      <td>EUW1</td>\n",
       "      <td>420</td>\n",
       "      <td>1468</td>\n",
       "      <td>13.14.522.7601</td>\n",
       "      <td>11</td>\n",
       "      <td>KJLobfhi20s2V45keoOTQpX8CSmNGx15o6iM27wV2xUTk0...</td>\n",
       "      <td>Badlulu00</td>\n",
       "      <td>100</td>\n",
       "      <td>True</td>\n",
       "      <td>TOP</td>\n",
       "      <td>Yone</td>\n",
       "      <td>17684</td>\n",
       "      <td>16</td>\n",
       "      <td>8</td>\n",
       "      <td>1</td>\n",
       "      <td>24.0</td>\n",
       "      <td>0.727273</td>\n",
       "      <td>1368.829418</td>\n",
       "      <td>234</td>\n",
       "      <td>16</td>\n",
       "      <td>699.643589</td>\n",
       "      <td>1513</td>\n",
       "      <td>None</td>\n",
       "      <td>1233</td>\n",
       "      <td>None</td>\n",
       "      <td>30</td>\n",
       "      <td>None</td>\n",
       "      <td>4</td>\n",
       "      <td>474</td>\n",
       "      <td>27</td>\n",
       "      <td>42</td>\n",
       "      <td>0.410498</td>\n",
       "      <td>0.220415</td>\n",
       "      <td>8139</td>\n",
       "      <td>33500</td>\n",
       "      <td>0.880055</td>\n",
       "      <td>10</td>\n",
       "      <td>3</td>\n",
       "      <td>7</td>\n",
       "      <td>0</td>\n",
       "      <td>0</td>\n",
       "      <td>0</td>\n",
       "      <td>1</td>\n",
       "      <td>1</td>\n",
       "      <td>7</td>\n",
       "      <td>1</td>\n",
       "      <td>7043</td>\n",
       "      <td>20898</td>\n",
       "      <td>7043</td>\n",
       "      <td>False</td>\n",
       "      <td>True</td>\n",
       "      <td>0</td>\n",
       "      <td>5</td>\n",
       "      <td>29</td>\n",
       "      <td>7</td>\n",
       "      <td>1</td>\n",
       "      <td>8</td>\n",
       "      <td>1</td>\n",
       "      <td>0</td>\n",
       "      <td>5</td>\n",
       "      <td>0</td>\n",
       "      <td>1</td>\n",
       "      <td>0</td>\n",
       "      <td>0</td>\n",
       "      <td>0</td>\n",
       "      <td>0</td>\n",
       "      <td>0</td>\n",
       "      <td>21</td>\n",
       "      <td>34</td>\n",
       "      <td>46214</td>\n",
       "      <td>46</td>\n",
       "      <td>49608</td>\n",
       "      <td>67784</td>\n",
       "    </tr>\n",
       "    <tr>\n",
       "      <th>1</th>\n",
       "      <td>EUW1_6528700594</td>\n",
       "      <td>KJLobfhi20s2V45keoOTQpX8CSmNGx15o6iM27wV2xUTk0...</td>\n",
       "      <td>EUW1</td>\n",
       "      <td>420</td>\n",
       "      <td>1486</td>\n",
       "      <td>13.14.522.7601</td>\n",
       "      <td>11</td>\n",
       "      <td>KJLobfhi20s2V45keoOTQpX8CSmNGx15o6iM27wV2xUTk0...</td>\n",
       "      <td>Badlulu00</td>\n",
       "      <td>100</td>\n",
       "      <td>True</td>\n",
       "      <td>TOP</td>\n",
       "      <td>Aatrox</td>\n",
       "      <td>14535</td>\n",
       "      <td>7</td>\n",
       "      <td>11</td>\n",
       "      <td>4</td>\n",
       "      <td>4.5</td>\n",
       "      <td>0.6</td>\n",
       "      <td>935.858773</td>\n",
       "      <td>181</td>\n",
       "      <td>18</td>\n",
       "      <td>502.886365</td>\n",
       "      <td>268</td>\n",
       "      <td>None</td>\n",
       "      <td>-399</td>\n",
       "      <td>None</td>\n",
       "      <td>1</td>\n",
       "      <td>None</td>\n",
       "      <td>0</td>\n",
       "      <td>248</td>\n",
       "      <td>24</td>\n",
       "      <td>50</td>\n",
       "      <td>0.264982</td>\n",
       "      <td>0.2596</td>\n",
       "      <td>10945</td>\n",
       "      <td>23192</td>\n",
       "      <td>0.981639</td>\n",
       "      <td>9</td>\n",
       "      <td>3</td>\n",
       "      <td>6</td>\n",
       "      <td>0</td>\n",
       "      <td>4</td>\n",
       "      <td>0</td>\n",
       "      <td>0</td>\n",
       "      <td>0</td>\n",
       "      <td>3</td>\n",
       "      <td>1</td>\n",
       "      <td>2142</td>\n",
       "      <td>4349</td>\n",
       "      <td>2142</td>\n",
       "      <td>False</td>\n",
       "      <td>True</td>\n",
       "      <td>0</td>\n",
       "      <td>5</td>\n",
       "      <td>30</td>\n",
       "      <td>5</td>\n",
       "      <td>0</td>\n",
       "      <td>6</td>\n",
       "      <td>0</td>\n",
       "      <td>0</td>\n",
       "      <td>2</td>\n",
       "      <td>0</td>\n",
       "      <td>0</td>\n",
       "      <td>0</td>\n",
       "      <td>0</td>\n",
       "      <td>1</td>\n",
       "      <td>0</td>\n",
       "      <td>0</td>\n",
       "      <td>21</td>\n",
       "      <td>30</td>\n",
       "      <td>47146</td>\n",
       "      <td>59</td>\n",
       "      <td>48728</td>\n",
       "      <td>61040</td>\n",
       "    </tr>\n",
       "    <tr>\n",
       "      <th>2</th>\n",
       "      <td>EUW1_6528367649</td>\n",
       "      <td>KJLobfhi20s2V45keoOTQpX8CSmNGx15o6iM27wV2xUTk0...</td>\n",
       "      <td>EUW1</td>\n",
       "      <td>420</td>\n",
       "      <td>1682</td>\n",
       "      <td>13.14.522.7601</td>\n",
       "      <td>11</td>\n",
       "      <td>KJLobfhi20s2V45keoOTQpX8CSmNGx15o6iM27wV2xUTk0...</td>\n",
       "      <td>Badlulu00</td>\n",
       "      <td>100</td>\n",
       "      <td>True</td>\n",
       "      <td>TOP</td>\n",
       "      <td>KSante</td>\n",
       "      <td>16827</td>\n",
       "      <td>5</td>\n",
       "      <td>14</td>\n",
       "      <td>3</td>\n",
       "      <td>6.333333</td>\n",
       "      <td>0.527778</td>\n",
       "      <td>631.835335</td>\n",
       "      <td>216</td>\n",
       "      <td>8</td>\n",
       "      <td>475.886709</td>\n",
       "      <td>-322</td>\n",
       "      <td>None</td>\n",
       "      <td>-51</td>\n",
       "      <td>None</td>\n",
       "      <td>3</td>\n",
       "      <td>None</td>\n",
       "      <td>3</td>\n",
       "      <td>2712</td>\n",
       "      <td>35</td>\n",
       "      <td>60</td>\n",
       "      <td>0.22737</td>\n",
       "      <td>0.319925</td>\n",
       "      <td>11733</td>\n",
       "      <td>17719</td>\n",
       "      <td>0.922745</td>\n",
       "      <td>8</td>\n",
       "      <td>2</td>\n",
       "      <td>6</td>\n",
       "      <td>0</td>\n",
       "      <td>3</td>\n",
       "      <td>0</td>\n",
       "      <td>0</td>\n",
       "      <td>0</td>\n",
       "      <td>3</td>\n",
       "      <td>0</td>\n",
       "      <td>3742</td>\n",
       "      <td>3742</td>\n",
       "      <td>3742</td>\n",
       "      <td>False</td>\n",
       "      <td>True</td>\n",
       "      <td>0</td>\n",
       "      <td>4</td>\n",
       "      <td>32</td>\n",
       "      <td>12</td>\n",
       "      <td>3</td>\n",
       "      <td>7</td>\n",
       "      <td>0</td>\n",
       "      <td>0</td>\n",
       "      <td>9</td>\n",
       "      <td>0</td>\n",
       "      <td>1</td>\n",
       "      <td>0</td>\n",
       "      <td>0</td>\n",
       "      <td>0</td>\n",
       "      <td>0</td>\n",
       "      <td>0</td>\n",
       "      <td>18</td>\n",
       "      <td>36</td>\n",
       "      <td>52291</td>\n",
       "      <td>66</td>\n",
       "      <td>56148</td>\n",
       "      <td>85904</td>\n",
       "    </tr>\n",
       "    <tr>\n",
       "      <th>3</th>\n",
       "      <td>EUW1_6528262584</td>\n",
       "      <td>ihr-O8AKXy2wTpa_RDzcTkGnd7qWyCuDzahwVlPpEw7iew...</td>\n",
       "      <td>EUW1</td>\n",
       "      <td>420</td>\n",
       "      <td>1479</td>\n",
       "      <td>13.14.522.7601</td>\n",
       "      <td>11</td>\n",
       "      <td>KJLobfhi20s2V45keoOTQpX8CSmNGx15o6iM27wV2xUTk0...</td>\n",
       "      <td>Badlulu00</td>\n",
       "      <td>200</td>\n",
       "      <td>True</td>\n",
       "      <td>TOP</td>\n",
       "      <td>Yone</td>\n",
       "      <td>15043</td>\n",
       "      <td>6</td>\n",
       "      <td>6</td>\n",
       "      <td>2</td>\n",
       "      <td>6.0</td>\n",
       "      <td>0.521739</td>\n",
       "      <td>1196.895863</td>\n",
       "      <td>212</td>\n",
       "      <td>11</td>\n",
       "      <td>517.41963</td>\n",
       "      <td>1055</td>\n",
       "      <td>None</td>\n",
       "      <td>884</td>\n",
       "      <td>None</td>\n",
       "      <td>21</td>\n",
       "      <td>None</td>\n",
       "      <td>4</td>\n",
       "      <td>214</td>\n",
       "      <td>26</td>\n",
       "      <td>30</td>\n",
       "      <td>0.372183</td>\n",
       "      <td>0.179636</td>\n",
       "      <td>3615</td>\n",
       "      <td>29652</td>\n",
       "      <td>0.819304</td>\n",
       "      <td>10</td>\n",
       "      <td>2</td>\n",
       "      <td>8</td>\n",
       "      <td>0</td>\n",
       "      <td>1</td>\n",
       "      <td>0</td>\n",
       "      <td>0</td>\n",
       "      <td>1</td>\n",
       "      <td>2</td>\n",
       "      <td>0</td>\n",
       "      <td>4394</td>\n",
       "      <td>6675</td>\n",
       "      <td>4394</td>\n",
       "      <td>False</td>\n",
       "      <td>False</td>\n",
       "      <td>0</td>\n",
       "      <td>4</td>\n",
       "      <td>19</td>\n",
       "      <td>9</td>\n",
       "      <td>0</td>\n",
       "      <td>1</td>\n",
       "      <td>0</td>\n",
       "      <td>0</td>\n",
       "      <td>6</td>\n",
       "      <td>0</td>\n",
       "      <td>1</td>\n",
       "      <td>0</td>\n",
       "      <td>0</td>\n",
       "      <td>0</td>\n",
       "      <td>0</td>\n",
       "      <td>0</td>\n",
       "      <td>14</td>\n",
       "      <td>23</td>\n",
       "      <td>42145</td>\n",
       "      <td>75</td>\n",
       "      <td>47502</td>\n",
       "      <td>64947</td>\n",
       "    </tr>\n",
       "    <tr>\n",
       "      <th>4</th>\n",
       "      <td>EUW1_6527754806</td>\n",
       "      <td>KJLobfhi20s2V45keoOTQpX8CSmNGx15o6iM27wV2xUTk0...</td>\n",
       "      <td>EUW1</td>\n",
       "      <td>420</td>\n",
       "      <td>1626</td>\n",
       "      <td>13.14.522.7601</td>\n",
       "      <td>11</td>\n",
       "      <td>KJLobfhi20s2V45keoOTQpX8CSmNGx15o6iM27wV2xUTk0...</td>\n",
       "      <td>Badlulu00</td>\n",
       "      <td>100</td>\n",
       "      <td>True</td>\n",
       "      <td>TOP</td>\n",
       "      <td>KSante</td>\n",
       "      <td>16547</td>\n",
       "      <td>5</td>\n",
       "      <td>15</td>\n",
       "      <td>3</td>\n",
       "      <td>6.666667</td>\n",
       "      <td>0.465116</td>\n",
       "      <td>574.985457</td>\n",
       "      <td>202</td>\n",
       "      <td>0</td>\n",
       "      <td>448.021475</td>\n",
       "      <td>103</td>\n",
       "      <td>None</td>\n",
       "      <td>752</td>\n",
       "      <td>None</td>\n",
       "      <td>11</td>\n",
       "      <td>None</td>\n",
       "      <td>0</td>\n",
       "      <td>1240</td>\n",
       "      <td>38</td>\n",
       "      <td>68</td>\n",
       "      <td>0.146448</td>\n",
       "      <td>0.219118</td>\n",
       "      <td>5290</td>\n",
       "      <td>15592</td>\n",
       "      <td>0.610796</td>\n",
       "      <td>10</td>\n",
       "      <td>3</td>\n",
       "      <td>7</td>\n",
       "      <td>0</td>\n",
       "      <td>0</td>\n",
       "      <td>0</td>\n",
       "      <td>1</td>\n",
       "      <td>0</td>\n",
       "      <td>3</td>\n",
       "      <td>0</td>\n",
       "      <td>4345</td>\n",
       "      <td>6634</td>\n",
       "      <td>4345</td>\n",
       "      <td>False</td>\n",
       "      <td>False</td>\n",
       "      <td>0</td>\n",
       "      <td>1</td>\n",
       "      <td>15</td>\n",
       "      <td>10</td>\n",
       "      <td>1</td>\n",
       "      <td>6</td>\n",
       "      <td>0</td>\n",
       "      <td>0</td>\n",
       "      <td>10</td>\n",
       "      <td>0</td>\n",
       "      <td>0</td>\n",
       "      <td>2</td>\n",
       "      <td>0</td>\n",
       "      <td>0</td>\n",
       "      <td>0</td>\n",
       "      <td>0</td>\n",
       "      <td>17</td>\n",
       "      <td>43</td>\n",
       "      <td>49701</td>\n",
       "      <td>53</td>\n",
       "      <td>56063</td>\n",
       "      <td>72073</td>\n",
       "    </tr>\n",
       "  </tbody>\n",
       "</table>\n",
       "</div>"
      ],
      "text/plain": [
       "           matchId                                       participants  \\\n",
       "0  EUW1_6528747599  KJLobfhi20s2V45keoOTQpX8CSmNGx15o6iM27wV2xUTk0...   \n",
       "1  EUW1_6528700594  KJLobfhi20s2V45keoOTQpX8CSmNGx15o6iM27wV2xUTk0...   \n",
       "2  EUW1_6528367649  KJLobfhi20s2V45keoOTQpX8CSmNGx15o6iM27wV2xUTk0...   \n",
       "3  EUW1_6528262584  ihr-O8AKXy2wTpa_RDzcTkGnd7qWyCuDzahwVlPpEw7iew...   \n",
       "4  EUW1_6527754806  KJLobfhi20s2V45keoOTQpX8CSmNGx15o6iM27wV2xUTk0...   \n",
       "\n",
       "  platformId  queueId  gameDuration     gameVersion  mapId  \\\n",
       "0       EUW1      420          1468  13.14.522.7601     11   \n",
       "1       EUW1      420          1486  13.14.522.7601     11   \n",
       "2       EUW1      420          1682  13.14.522.7601     11   \n",
       "3       EUW1      420          1479  13.14.522.7601     11   \n",
       "4       EUW1      420          1626  13.14.522.7601     11   \n",
       "\n",
       "                                               puuid summonerName  teamId  \\\n",
       "0  KJLobfhi20s2V45keoOTQpX8CSmNGx15o6iM27wV2xUTk0...    Badlulu00     100   \n",
       "1  KJLobfhi20s2V45keoOTQpX8CSmNGx15o6iM27wV2xUTk0...    Badlulu00     100   \n",
       "2  KJLobfhi20s2V45keoOTQpX8CSmNGx15o6iM27wV2xUTk0...    Badlulu00     100   \n",
       "3  KJLobfhi20s2V45keoOTQpX8CSmNGx15o6iM27wV2xUTk0...    Badlulu00     200   \n",
       "4  KJLobfhi20s2V45keoOTQpX8CSmNGx15o6iM27wV2xUTk0...    Badlulu00     100   \n",
       "\n",
       "    win individualPosition championName  champExperience  kills  assists  \\\n",
       "0  True                TOP         Yone            17684     16        8   \n",
       "1  True                TOP       Aatrox            14535      7       11   \n",
       "2  True                TOP       KSante            16827      5       14   \n",
       "3  True                TOP         Yone            15043      6        6   \n",
       "4  True                TOP       KSante            16547      5       15   \n",
       "\n",
       "   deaths       kda  killParticipation  damagePerMinute  totalMinionsKilled  \\\n",
       "0       1      24.0           0.727273      1368.829418                 234   \n",
       "1       4       4.5                0.6       935.858773                 181   \n",
       "2       3  6.333333           0.527778       631.835335                 216   \n",
       "3       2       6.0           0.521739      1196.895863                 212   \n",
       "4       3  6.666667           0.465116       574.985457                 202   \n",
       "\n",
       "   neutralMinionsKilled  goldPerMinute  goldDiffAt10 goldDiffAt15  \\\n",
       "0                    16     699.643589          1513         None   \n",
       "1                    18     502.886365           268         None   \n",
       "2                     8     475.886709          -322         None   \n",
       "3                    11      517.41963          1055         None   \n",
       "4                     0     448.021475           103         None   \n",
       "\n",
       "   expDiffAt10 expDiffAt15  csDiffAt10 csDiffAt15  soloKills  \\\n",
       "0         1233        None          30       None          4   \n",
       "1         -399        None           1       None          0   \n",
       "2          -51        None           3       None          3   \n",
       "3          884        None          21       None          4   \n",
       "4          752        None          11       None          0   \n",
       "\n",
       "   totalTimeCCDealt  timeCCingOthers  enemyChampionImmobilizations  \\\n",
       "0               474               27                            42   \n",
       "1               248               24                            50   \n",
       "2              2712               35                            60   \n",
       "3               214               26                            30   \n",
       "4              1240               38                            68   \n",
       "\n",
       "   teamDamagePercentage  damageTakenOnTeamPercentage  totalHeal  \\\n",
       "0              0.410498                     0.220415       8139   \n",
       "1              0.264982                       0.2596      10945   \n",
       "2               0.22737                     0.319925      11733   \n",
       "3              0.372183                     0.179636       3615   \n",
       "4              0.146448                     0.219118       5290   \n",
       "\n",
       "   totalDamageDealtToChampions  visionScorePerMinute  wardsPlaced  \\\n",
       "0                        33500              0.880055           10   \n",
       "1                        23192              0.981639            9   \n",
       "2                        17719              0.922745            8   \n",
       "3                        29652              0.819304           10   \n",
       "4                        15592              0.610796           10   \n",
       "\n",
       "   controlWardsPlaced  stealthWardsPlaced  wardsGuarded  wardTakedowns  \\\n",
       "0                   3                   7             0              0   \n",
       "1                   3                   6             0              4   \n",
       "2                   2                   6             0              3   \n",
       "3                   2                   8             0              1   \n",
       "4                   3                   7             0              0   \n",
       "\n",
       "   dragonTakedowns  baronTakedowns  riftHeraldTakedowns  turretTakedowns  \\\n",
       "0                0               1                    1                7   \n",
       "1                0               0                    0                3   \n",
       "2                0               0                    0                3   \n",
       "3                0               0                    1                2   \n",
       "4                0               1                    0                3   \n",
       "\n",
       "   inhibitorTakedowns  damageDealtToBuildings  damageDealtToObjectives  \\\n",
       "0                   1                    7043                    20898   \n",
       "1                   1                    2142                     4349   \n",
       "2                   0                    3742                     3742   \n",
       "3                   0                    4394                     6675   \n",
       "4                   0                    4345                     6634   \n",
       "\n",
       "   damageDealtToTurrets  firstTowerAssist  firstTowerKill  \\\n",
       "0                  7043             False            True   \n",
       "1                  2142             False            True   \n",
       "2                  3742             False            True   \n",
       "3                  4394             False           False   \n",
       "4                  4345             False           False   \n",
       "\n",
       "   teamElderDragonKills  turretPlatesTaken  onMyWayPings  enemyMissingPings  \\\n",
       "0                     0                  5            29                  7   \n",
       "1                     0                  5            30                  5   \n",
       "2                     0                  4            32                 12   \n",
       "3                     0                  4            19                  9   \n",
       "4                     0                  1            15                 10   \n",
       "\n",
       "   allInPings  assistMePings  baitPings  basicPings  commandPings  \\\n",
       "0           1              8          1           0             5   \n",
       "1           0              6          0           0             2   \n",
       "2           3              7          0           0             9   \n",
       "3           0              1          0           0             6   \n",
       "4           1              6          0           0            10   \n",
       "\n",
       "   dangerPings  getBackPings  holdPings  needVisionPings  pushPings  \\\n",
       "0            0             1          0                0          0   \n",
       "1            0             0          0                0          1   \n",
       "2            0             1          0                0          0   \n",
       "3            0             1          0                0          0   \n",
       "4            0             0          2                0          0   \n",
       "\n",
       "   visionClearedPings  enemyVisionPings  ennemyTeamKills  ennemyTeamDeaths  \\\n",
       "0                   0                 0               21                34   \n",
       "1                   0                 0               21                30   \n",
       "2                   0                 0               18                36   \n",
       "3                   0                 0               14                23   \n",
       "4                   0                 0               17                43   \n",
       "\n",
       "   ennemyTeamGolds  ennemyTeamWardPlaced  ennemyTeamTotalLvl  \\\n",
       "0            46214                    46               49608   \n",
       "1            47146                    59               48728   \n",
       "2            52291                    66               56148   \n",
       "3            42145                    75               47502   \n",
       "4            49701                    53               56063   \n",
       "\n",
       "   ennemyTeamDamages  \n",
       "0              67784  \n",
       "1              61040  \n",
       "2              85904  \n",
       "3              64947  \n",
       "4              72073  "
      ]
     },
     "execution_count": 27,
     "metadata": {},
     "output_type": "execute_result"
    }
   ],
   "source": [
    "import os\n",
    "import pandas as pd\n",
    "\n",
    "# Chemin absolu du dossier courant\n",
    "chemin_scouting = os.path.abspath('..')\n",
    "\n",
    "print(\"Chemin du dossier parent :\", chemin_scouting)\n",
    "\n",
    "chemin_data = chemin_scouting + \"/datas/matches/equipes/GW/lol_df_Badlulu00.pkl\"\n",
    "\n",
    "data_lol = pd.read_pickle(chemin_data) # dataset\n",
    "\n",
    "print(f\"Le dataset a une taille de : {data_lol.shape}\")\n",
    "\n",
    "pd.set_option('display.max_columns', 163)\n",
    "pd.set_option('display.max_rows', 5)\n",
    "\n",
    "data_lol.head()"
   ]
  },
  {
   "cell_type": "code",
   "execution_count": 28,
   "metadata": {},
   "outputs": [
    {
     "data": {
      "text/plain": [
       "matchId               string\n",
       "participants          string\n",
       "                       ...  \n",
       "ennemyTeamTotalLvl     Int64\n",
       "ennemyTeamDamages      Int64\n",
       "Length: 75, dtype: object"
      ]
     },
     "execution_count": 28,
     "metadata": {},
     "output_type": "execute_result"
    }
   ],
   "source": [
    "data_lol.dtypes"
   ]
  },
  {
   "cell_type": "markdown",
   "metadata": {},
   "source": [
    "# RADAR PLOT"
   ]
  },
  {
   "cell_type": "markdown",
   "metadata": {},
   "source": [
    "## Performances individuelles (Individual Performance)"
   ]
  },
  {
   "cell_type": "markdown",
   "metadata": {},
   "source": [
    "Cette méta-variable peut être évaluée en utilisant des statistiques sur les performances pendant la phase de lane regroupant le gain de gold et d’expérience."
   ]
  },
  {
   "cell_type": "code",
   "execution_count": 29,
   "metadata": {},
   "outputs": [
    {
     "name": "stdout",
     "output_type": "stream",
     "text": [
      "Chemin du dossier parent : /Users/atysp/Desktop/Avisia/projet_lol/scouting\n"
     ]
    },
    {
     "data": {
      "application/vnd.plotly.v1+json": {
       "config": {
        "plotlyServerURL": "https://plot.ly"
       },
       "data": [
        {
         "name": "Badlulu00",
         "r": [
          0.56,
          0.5600802614279726,
          0.7430374524965685,
          0.3977003382038177,
          0.3307906815406815,
          0.38073224553767754,
          0.56
         ],
         "theta": [
          "winRate",
          "goldPerMinute / 800 ",
          "damagePerMinute / 1000",
          "csPerMinute / 20",
          "kda / 10",
          "killParticipation",
          "winRate"
         ],
         "type": "scatterpolar"
        },
        {
         "name": "zrh2",
         "r": [
          0.48,
          0.5699881000185152,
          0.7990720944672494,
          0.3791123567686573,
          0.27382854367854376,
          0.47255472559026873,
          0.48
         ],
         "theta": [
          "winRate",
          "goldPerMinute / 800 ",
          "damagePerMinute / 1000",
          "csPerMinute / 20",
          "kda / 10",
          "killParticipation",
          "winRate"
         ],
         "type": "scatterpolar"
        },
        {
         "name": "Practice",
         "r": [
          0.61,
          0.5979542221321203,
          0.8006001658144497,
          0.3716888297417092,
          0.4968512293262293,
          0.5701440748358289,
          0.61
         ],
         "theta": [
          "winRate",
          "goldPerMinute / 800 ",
          "damagePerMinute / 1000",
          "csPerMinute / 20",
          "kda / 10",
          "killParticipation",
          "winRate"
         ],
         "type": "scatterpolar"
        },
        {
         "name": "GW Villager",
         "r": [
          0.59,
          0.5863970472902387,
          0.7900992630432934,
          0.3264683871699239,
          0.6367772283272284,
          0.6173383669788479,
          0.59
         ],
         "theta": [
          "winRate",
          "goldPerMinute / 800 ",
          "damagePerMinute / 1000",
          "csPerMinute / 20",
          "kda / 10",
          "killParticipation",
          "winRate"
         ],
         "type": "scatterpolar"
        }
       ],
       "layout": {
        "autosize": true,
        "polar": {
         "angularaxis": {
          "type": "category"
         },
         "radialaxis": {
          "autorange": true,
          "range": [
           0,
           0.8354088686759475
          ],
          "type": "linear"
         }
        },
        "showlegend": true,
        "template": {
         "data": {
          "bar": [
           {
            "error_x": {
             "color": "#2a3f5f"
            },
            "error_y": {
             "color": "#2a3f5f"
            },
            "marker": {
             "line": {
              "color": "#E5ECF6",
              "width": 0.5
             },
             "pattern": {
              "fillmode": "overlay",
              "size": 10,
              "solidity": 0.2
             }
            },
            "type": "bar"
           }
          ],
          "barpolar": [
           {
            "marker": {
             "line": {
              "color": "#E5ECF6",
              "width": 0.5
             },
             "pattern": {
              "fillmode": "overlay",
              "size": 10,
              "solidity": 0.2
             }
            },
            "type": "barpolar"
           }
          ],
          "carpet": [
           {
            "aaxis": {
             "endlinecolor": "#2a3f5f",
             "gridcolor": "white",
             "linecolor": "white",
             "minorgridcolor": "white",
             "startlinecolor": "#2a3f5f"
            },
            "baxis": {
             "endlinecolor": "#2a3f5f",
             "gridcolor": "white",
             "linecolor": "white",
             "minorgridcolor": "white",
             "startlinecolor": "#2a3f5f"
            },
            "type": "carpet"
           }
          ],
          "choropleth": [
           {
            "colorbar": {
             "outlinewidth": 0,
             "ticks": ""
            },
            "type": "choropleth"
           }
          ],
          "contour": [
           {
            "colorbar": {
             "outlinewidth": 0,
             "ticks": ""
            },
            "colorscale": [
             [
              0,
              "#0d0887"
             ],
             [
              0.1111111111111111,
              "#46039f"
             ],
             [
              0.2222222222222222,
              "#7201a8"
             ],
             [
              0.3333333333333333,
              "#9c179e"
             ],
             [
              0.4444444444444444,
              "#bd3786"
             ],
             [
              0.5555555555555556,
              "#d8576b"
             ],
             [
              0.6666666666666666,
              "#ed7953"
             ],
             [
              0.7777777777777778,
              "#fb9f3a"
             ],
             [
              0.8888888888888888,
              "#fdca26"
             ],
             [
              1,
              "#f0f921"
             ]
            ],
            "type": "contour"
           }
          ],
          "contourcarpet": [
           {
            "colorbar": {
             "outlinewidth": 0,
             "ticks": ""
            },
            "type": "contourcarpet"
           }
          ],
          "heatmap": [
           {
            "colorbar": {
             "outlinewidth": 0,
             "ticks": ""
            },
            "colorscale": [
             [
              0,
              "#0d0887"
             ],
             [
              0.1111111111111111,
              "#46039f"
             ],
             [
              0.2222222222222222,
              "#7201a8"
             ],
             [
              0.3333333333333333,
              "#9c179e"
             ],
             [
              0.4444444444444444,
              "#bd3786"
             ],
             [
              0.5555555555555556,
              "#d8576b"
             ],
             [
              0.6666666666666666,
              "#ed7953"
             ],
             [
              0.7777777777777778,
              "#fb9f3a"
             ],
             [
              0.8888888888888888,
              "#fdca26"
             ],
             [
              1,
              "#f0f921"
             ]
            ],
            "type": "heatmap"
           }
          ],
          "heatmapgl": [
           {
            "colorbar": {
             "outlinewidth": 0,
             "ticks": ""
            },
            "colorscale": [
             [
              0,
              "#0d0887"
             ],
             [
              0.1111111111111111,
              "#46039f"
             ],
             [
              0.2222222222222222,
              "#7201a8"
             ],
             [
              0.3333333333333333,
              "#9c179e"
             ],
             [
              0.4444444444444444,
              "#bd3786"
             ],
             [
              0.5555555555555556,
              "#d8576b"
             ],
             [
              0.6666666666666666,
              "#ed7953"
             ],
             [
              0.7777777777777778,
              "#fb9f3a"
             ],
             [
              0.8888888888888888,
              "#fdca26"
             ],
             [
              1,
              "#f0f921"
             ]
            ],
            "type": "heatmapgl"
           }
          ],
          "histogram": [
           {
            "marker": {
             "pattern": {
              "fillmode": "overlay",
              "size": 10,
              "solidity": 0.2
             }
            },
            "type": "histogram"
           }
          ],
          "histogram2d": [
           {
            "colorbar": {
             "outlinewidth": 0,
             "ticks": ""
            },
            "colorscale": [
             [
              0,
              "#0d0887"
             ],
             [
              0.1111111111111111,
              "#46039f"
             ],
             [
              0.2222222222222222,
              "#7201a8"
             ],
             [
              0.3333333333333333,
              "#9c179e"
             ],
             [
              0.4444444444444444,
              "#bd3786"
             ],
             [
              0.5555555555555556,
              "#d8576b"
             ],
             [
              0.6666666666666666,
              "#ed7953"
             ],
             [
              0.7777777777777778,
              "#fb9f3a"
             ],
             [
              0.8888888888888888,
              "#fdca26"
             ],
             [
              1,
              "#f0f921"
             ]
            ],
            "type": "histogram2d"
           }
          ],
          "histogram2dcontour": [
           {
            "colorbar": {
             "outlinewidth": 0,
             "ticks": ""
            },
            "colorscale": [
             [
              0,
              "#0d0887"
             ],
             [
              0.1111111111111111,
              "#46039f"
             ],
             [
              0.2222222222222222,
              "#7201a8"
             ],
             [
              0.3333333333333333,
              "#9c179e"
             ],
             [
              0.4444444444444444,
              "#bd3786"
             ],
             [
              0.5555555555555556,
              "#d8576b"
             ],
             [
              0.6666666666666666,
              "#ed7953"
             ],
             [
              0.7777777777777778,
              "#fb9f3a"
             ],
             [
              0.8888888888888888,
              "#fdca26"
             ],
             [
              1,
              "#f0f921"
             ]
            ],
            "type": "histogram2dcontour"
           }
          ],
          "mesh3d": [
           {
            "colorbar": {
             "outlinewidth": 0,
             "ticks": ""
            },
            "type": "mesh3d"
           }
          ],
          "parcoords": [
           {
            "line": {
             "colorbar": {
              "outlinewidth": 0,
              "ticks": ""
             }
            },
            "type": "parcoords"
           }
          ],
          "pie": [
           {
            "automargin": true,
            "type": "pie"
           }
          ],
          "scatter": [
           {
            "fillpattern": {
             "fillmode": "overlay",
             "size": 10,
             "solidity": 0.2
            },
            "type": "scatter"
           }
          ],
          "scatter3d": [
           {
            "line": {
             "colorbar": {
              "outlinewidth": 0,
              "ticks": ""
             }
            },
            "marker": {
             "colorbar": {
              "outlinewidth": 0,
              "ticks": ""
             }
            },
            "type": "scatter3d"
           }
          ],
          "scattercarpet": [
           {
            "marker": {
             "colorbar": {
              "outlinewidth": 0,
              "ticks": ""
             }
            },
            "type": "scattercarpet"
           }
          ],
          "scattergeo": [
           {
            "marker": {
             "colorbar": {
              "outlinewidth": 0,
              "ticks": ""
             }
            },
            "type": "scattergeo"
           }
          ],
          "scattergl": [
           {
            "marker": {
             "colorbar": {
              "outlinewidth": 0,
              "ticks": ""
             }
            },
            "type": "scattergl"
           }
          ],
          "scattermapbox": [
           {
            "marker": {
             "colorbar": {
              "outlinewidth": 0,
              "ticks": ""
             }
            },
            "type": "scattermapbox"
           }
          ],
          "scatterpolar": [
           {
            "marker": {
             "colorbar": {
              "outlinewidth": 0,
              "ticks": ""
             }
            },
            "type": "scatterpolar"
           }
          ],
          "scatterpolargl": [
           {
            "marker": {
             "colorbar": {
              "outlinewidth": 0,
              "ticks": ""
             }
            },
            "type": "scatterpolargl"
           }
          ],
          "scatterternary": [
           {
            "marker": {
             "colorbar": {
              "outlinewidth": 0,
              "ticks": ""
             }
            },
            "type": "scatterternary"
           }
          ],
          "surface": [
           {
            "colorbar": {
             "outlinewidth": 0,
             "ticks": ""
            },
            "colorscale": [
             [
              0,
              "#0d0887"
             ],
             [
              0.1111111111111111,
              "#46039f"
             ],
             [
              0.2222222222222222,
              "#7201a8"
             ],
             [
              0.3333333333333333,
              "#9c179e"
             ],
             [
              0.4444444444444444,
              "#bd3786"
             ],
             [
              0.5555555555555556,
              "#d8576b"
             ],
             [
              0.6666666666666666,
              "#ed7953"
             ],
             [
              0.7777777777777778,
              "#fb9f3a"
             ],
             [
              0.8888888888888888,
              "#fdca26"
             ],
             [
              1,
              "#f0f921"
             ]
            ],
            "type": "surface"
           }
          ],
          "table": [
           {
            "cells": {
             "fill": {
              "color": "#EBF0F8"
             },
             "line": {
              "color": "white"
             }
            },
            "header": {
             "fill": {
              "color": "#C8D4E3"
             },
             "line": {
              "color": "white"
             }
            },
            "type": "table"
           }
          ]
         },
         "layout": {
          "annotationdefaults": {
           "arrowcolor": "#2a3f5f",
           "arrowhead": 0,
           "arrowwidth": 1
          },
          "autotypenumbers": "strict",
          "coloraxis": {
           "colorbar": {
            "outlinewidth": 0,
            "ticks": ""
           }
          },
          "colorscale": {
           "diverging": [
            [
             0,
             "#8e0152"
            ],
            [
             0.1,
             "#c51b7d"
            ],
            [
             0.2,
             "#de77ae"
            ],
            [
             0.3,
             "#f1b6da"
            ],
            [
             0.4,
             "#fde0ef"
            ],
            [
             0.5,
             "#f7f7f7"
            ],
            [
             0.6,
             "#e6f5d0"
            ],
            [
             0.7,
             "#b8e186"
            ],
            [
             0.8,
             "#7fbc41"
            ],
            [
             0.9,
             "#4d9221"
            ],
            [
             1,
             "#276419"
            ]
           ],
           "sequential": [
            [
             0,
             "#0d0887"
            ],
            [
             0.1111111111111111,
             "#46039f"
            ],
            [
             0.2222222222222222,
             "#7201a8"
            ],
            [
             0.3333333333333333,
             "#9c179e"
            ],
            [
             0.4444444444444444,
             "#bd3786"
            ],
            [
             0.5555555555555556,
             "#d8576b"
            ],
            [
             0.6666666666666666,
             "#ed7953"
            ],
            [
             0.7777777777777778,
             "#fb9f3a"
            ],
            [
             0.8888888888888888,
             "#fdca26"
            ],
            [
             1,
             "#f0f921"
            ]
           ],
           "sequentialminus": [
            [
             0,
             "#0d0887"
            ],
            [
             0.1111111111111111,
             "#46039f"
            ],
            [
             0.2222222222222222,
             "#7201a8"
            ],
            [
             0.3333333333333333,
             "#9c179e"
            ],
            [
             0.4444444444444444,
             "#bd3786"
            ],
            [
             0.5555555555555556,
             "#d8576b"
            ],
            [
             0.6666666666666666,
             "#ed7953"
            ],
            [
             0.7777777777777778,
             "#fb9f3a"
            ],
            [
             0.8888888888888888,
             "#fdca26"
            ],
            [
             1,
             "#f0f921"
            ]
           ]
          },
          "colorway": [
           "#636efa",
           "#EF553B",
           "#00cc96",
           "#ab63fa",
           "#FFA15A",
           "#19d3f3",
           "#FF6692",
           "#B6E880",
           "#FF97FF",
           "#FECB52"
          ],
          "font": {
           "color": "#2a3f5f"
          },
          "geo": {
           "bgcolor": "white",
           "lakecolor": "white",
           "landcolor": "#E5ECF6",
           "showlakes": true,
           "showland": true,
           "subunitcolor": "white"
          },
          "hoverlabel": {
           "align": "left"
          },
          "hovermode": "closest",
          "mapbox": {
           "style": "light"
          },
          "paper_bgcolor": "white",
          "plot_bgcolor": "#E5ECF6",
          "polar": {
           "angularaxis": {
            "gridcolor": "white",
            "linecolor": "white",
            "ticks": ""
           },
           "bgcolor": "#E5ECF6",
           "radialaxis": {
            "gridcolor": "white",
            "linecolor": "white",
            "ticks": ""
           }
          },
          "scene": {
           "xaxis": {
            "backgroundcolor": "#E5ECF6",
            "gridcolor": "white",
            "gridwidth": 2,
            "linecolor": "white",
            "showbackground": true,
            "ticks": "",
            "zerolinecolor": "white"
           },
           "yaxis": {
            "backgroundcolor": "#E5ECF6",
            "gridcolor": "white",
            "gridwidth": 2,
            "linecolor": "white",
            "showbackground": true,
            "ticks": "",
            "zerolinecolor": "white"
           },
           "zaxis": {
            "backgroundcolor": "#E5ECF6",
            "gridcolor": "white",
            "gridwidth": 2,
            "linecolor": "white",
            "showbackground": true,
            "ticks": "",
            "zerolinecolor": "white"
           }
          },
          "shapedefaults": {
           "line": {
            "color": "#2a3f5f"
           }
          },
          "ternary": {
           "aaxis": {
            "gridcolor": "white",
            "linecolor": "white",
            "ticks": ""
           },
           "baxis": {
            "gridcolor": "white",
            "linecolor": "white",
            "ticks": ""
           },
           "bgcolor": "#E5ECF6",
           "caxis": {
            "gridcolor": "white",
            "linecolor": "white",
            "ticks": ""
           }
          },
          "title": {
           "x": 0.05
          },
          "xaxis": {
           "automargin": true,
           "gridcolor": "white",
           "linecolor": "white",
           "ticks": "",
           "title": {
            "standoff": 15
           },
           "zerolinecolor": "white",
           "zerolinewidth": 2
          },
          "yaxis": {
           "automargin": true,
           "gridcolor": "white",
           "linecolor": "white",
           "ticks": "",
           "title": {
            "standoff": 15
           },
           "zerolinecolor": "white",
           "zerolinewidth": 2
          }
         }
        },
        "title": {
         "text": "Individual Performance"
        }
       }
      },
      "image/png": "[encoded data removed]"
     },
     "metadata": {},
     "output_type": "display_data"
    }
   ],
   "source": [
    "import pandas as pd\n",
    "import plotly.graph_objects as go\n",
    "\n",
    "def calculate_means(df):\n",
    "    df = df[df[\"gameDuration\"] > 0]\n",
    "    winRate = df[\"win\"].mean()\n",
    "    goldPerMinute = df[\"goldPerMinute\"].mean()\n",
    "    damagePerMinute = df[\"damagePerMinute\"].mean()\n",
    "    csPerMinute = ((df[\"neutralMinionsKilled\"] + df[\"totalMinionsKilled\"]) / df[\"gameDuration\"] * 60).mean()\n",
    "    kda = df[\"kda\"].mean()\n",
    "    killParticipation = df[\"killParticipation\"].mean()\n",
    "    return [winRate, goldPerMinute / 800 , damagePerMinute / 1000, csPerMinute / 20 , kda / 10, killParticipation]\n",
    "\n",
    "import os\n",
    "\n",
    "# Chemin absolu du dossier courant\n",
    "chemin_scouting = os.path.abspath('..')\n",
    "\n",
    "print(\"Chemin du dossier parent :\", chemin_scouting)\n",
    "\n",
    "chemin_data_1 = chemin_scouting + \"/datas/matches/equipes/GW/lol_df_Badlulu00.pkl\"\n",
    "data_lol_1 = pd.read_pickle(chemin_data_1)\n",
    "summoner_name_1 = data_lol_1[\"summonerName\"][0]\n",
    "data_lol_1 = data_lol_1[[\"win\", \"goldPerMinute\", \"damagePerMinute\", \"neutralMinionsKilled\",\"totalMinionsKilled\", \"gameDuration\", \"kda\", \"killParticipation\"]]\n",
    "data_1 = calculate_means(data_lol_1)\n",
    "data_1.append(data_1[0])\n",
    "\n",
    "chemin_data_2 = chemin_scouting + \"/datas/matches/equipes/GW/lol_df_zrh2.pkl\"\n",
    "data_lol_2 = pd.read_pickle(chemin_data_2)\n",
    "summoner_name_2 = data_lol_2[\"summonerName\"][0]\n",
    "data_lol_2 = data_lol_2[[\"win\", \"goldPerMinute\", \"damagePerMinute\", \"neutralMinionsKilled\",\"totalMinionsKilled\", \"gameDuration\", \"kda\", \"killParticipation\"]]\n",
    "data_2 = calculate_means(data_lol_2)\n",
    "data_2.append(data_2[0])\n",
    "\n",
    "chemin_data_3 = chemin_scouting + \"/datas/matches/equipes/GW/lol_df_Practice.pkl\"\n",
    "data_lol_3 = pd.read_pickle(chemin_data_3)\n",
    "summoner_name_3 = data_lol_3[\"summonerName\"][0]\n",
    "data_lol_3 = data_lol_3[[\"win\", \"goldPerMinute\", \"damagePerMinute\", \"neutralMinionsKilled\",\"totalMinionsKilled\", \"gameDuration\", \"kda\", \"killParticipation\"]]\n",
    "data_3 = calculate_means(data_lol_3)\n",
    "data_3.append(data_3[0])\n",
    "\n",
    "# Ajouter les nouveaux dataframes\n",
    "chemin_data_4 = chemin_scouting + \"/datas/matches/equipes/GW/lol_df_GW Villager.pkl\"\n",
    "data_lol_4 = pd.read_pickle(chemin_data_4)\n",
    "summoner_name_4 = data_lol_4[\"summonerName\"][0]\n",
    "data_lol_4 = data_lol_4[[\"win\", \"goldPerMinute\", \"damagePerMinute\", \"neutralMinionsKilled\",\"totalMinionsKilled\", \"gameDuration\", \"kda\", \"killParticipation\"]]\n",
    "data_4 = calculate_means(data_lol_4)\n",
    "data_4.append(data_4[0])\n",
    "\n",
    "chemin_data_5 = chemin_scouting + \"/datas/matches/equipes/GW/lol_df_ayekasia.pkl\"\n",
    "data_lol_5 = pd.read_pickle(chemin_data_5)\n",
    "summoner_name_5 = data_lol_5[\"summonerName\"][0]\n",
    "data_lol_5 = data_lol_5[[\"win\", \"goldPerMinute\", \"damagePerMinute\", \"neutralMinionsKilled\",\"totalMinionsKilled\", \"gameDuration\", \"kda\", \"killParticipation\"]]\n",
    "data_5 = calculate_means(data_lol_5)\n",
    "data_5.append(data_5[0])\n",
    "\n",
    "\n",
    "categories = ['winRate', 'goldPerMinute / 800 ', 'damagePerMinute / 1000', 'csPerMinute / 20', 'kda / 10', 'killParticipation']\n",
    "categories.append(categories[0])\n",
    "\n",
    "\n",
    "fig = go.Figure(\n",
    "    data=[\n",
    "        go.Scatterpolar(r=data_1, theta=categories, name=summoner_name_1),\n",
    "        go.Scatterpolar(r=data_2, theta=categories, name=summoner_name_2),\n",
    "        go.Scatterpolar(r=data_3, theta=categories, name=summoner_name_3),\n",
    "        go.Scatterpolar(r=data_4, theta=categories, name=summoner_name_4),  # Nouveau dataframe\n",
    "        ],\n",
    "    layout=go.Layout(\n",
    "        title=go.layout.Title(text='Individual Performance'),\n",
    "        showlegend=True\n",
    "    )\n",
    ")\n",
    "\n",
    "fig.show()"
   ]
  },
  {
   "cell_type": "markdown",
   "metadata": {},
   "source": [
    "## Vision et contrôle de la carte (Map Awareness)"
   ]
  },
  {
   "cell_type": "markdown",
   "metadata": {},
   "source": [
    "Cette méta-variable peut être évaluée en utilisant des statistiques telles que le nombre de contrôleurs de vision placés, le nombre d'ennemis détectés par des contrôleurs de vision, le temps passé à la base pour acheter des objets, etc. Ces statistiques révèlent la capacité du joueur à comprendre et à contrôler la carte du jeu.\n",
    "\n",
    "On pourrait simplement se baser sur le score de vision par minute pour cette caractéristique. "
   ]
  },
  {
   "cell_type": "code",
   "execution_count": 30,
   "metadata": {},
   "outputs": [
    {
     "name": "stdout",
     "output_type": "stream",
     "text": [
      "0     2.527301\n",
      "1    32.690000\n",
      "       ...    \n",
      "6     2.527301\n",
      "7     2.527301\n",
      "Length: 8, dtype: float64\n"
     ]
    },
    {
     "data": {
      "application/vnd.plotly.v1+json": {
       "config": {
        "plotlyServerURL": "https://plot.ly"
       },
       "data": [
        {
         "name": "ayekasia",
         "r": [
          2.527300776769165,
          32.69,
          6.23,
          24.51,
          6.6,
          0.65,
          2.527300776769165,
          2.527300776769165
         ],
         "theta": [
          "visionScorePerMinute",
          "wardsPlaced",
          "controlWardsPlaced",
          "stealthWardsPlaced",
          "wardTakedowns",
          "wardsGuarded",
          "visionScorePerMinute"
         ],
         "type": "scatterpolar"
        }
       ],
       "layout": {
        "autosize": true,
        "polar": {
         "angularaxis": {
          "type": "category"
         },
         "radialaxis": {
          "autorange": true,
          "range": [
           0,
           34.111304347826085
          ],
          "type": "linear"
         }
        },
        "showlegend": true,
        "template": {
         "data": {
          "bar": [
           {
            "error_x": {
             "color": "#2a3f5f"
            },
            "error_y": {
             "color": "#2a3f5f"
            },
            "marker": {
             "line": {
              "color": "#E5ECF6",
              "width": 0.5
             },
             "pattern": {
              "fillmode": "overlay",
              "size": 10,
              "solidity": 0.2
             }
            },
            "type": "bar"
           }
          ],
          "barpolar": [
           {
            "marker": {
             "line": {
              "color": "#E5ECF6",
              "width": 0.5
             },
             "pattern": {
              "fillmode": "overlay",
              "size": 10,
              "solidity": 0.2
             }
            },
            "type": "barpolar"
           }
          ],
          "carpet": [
           {
            "aaxis": {
             "endlinecolor": "#2a3f5f",
             "gridcolor": "white",
             "linecolor": "white",
             "minorgridcolor": "white",
             "startlinecolor": "#2a3f5f"
            },
            "baxis": {
             "endlinecolor": "#2a3f5f",
             "gridcolor": "white",
             "linecolor": "white",
             "minorgridcolor": "white",
             "startlinecolor": "#2a3f5f"
            },
            "type": "carpet"
           }
          ],
          "choropleth": [
           {
            "colorbar": {
             "outlinewidth": 0,
             "ticks": ""
            },
            "type": "choropleth"
           }
          ],
          "contour": [
           {
            "colorbar": {
             "outlinewidth": 0,
             "ticks": ""
            },
            "colorscale": [
             [
              0,
              "#0d0887"
             ],
             [
              0.1111111111111111,
              "#46039f"
             ],
             [
              0.2222222222222222,
              "#7201a8"
             ],
             [
              0.3333333333333333,
              "#9c179e"
             ],
             [
              0.4444444444444444,
              "#bd3786"
             ],
             [
              0.5555555555555556,
              "#d8576b"
             ],
             [
              0.6666666666666666,
              "#ed7953"
             ],
             [
              0.7777777777777778,
              "#fb9f3a"
             ],
             [
              0.8888888888888888,
              "#fdca26"
             ],
             [
              1,
              "#f0f921"
             ]
            ],
            "type": "contour"
           }
          ],
          "contourcarpet": [
           {
            "colorbar": {
             "outlinewidth": 0,
             "ticks": ""
            },
            "type": "contourcarpet"
           }
          ],
          "heatmap": [
           {
            "colorbar": {
             "outlinewidth": 0,
             "ticks": ""
            },
            "colorscale": [
             [
              0,
              "#0d0887"
             ],
             [
              0.1111111111111111,
              "#46039f"
             ],
             [
              0.2222222222222222,
              "#7201a8"
             ],
             [
              0.3333333333333333,
              "#9c179e"
             ],
             [
              0.4444444444444444,
              "#bd3786"
             ],
             [
              0.5555555555555556,
              "#d8576b"
             ],
             [
              0.6666666666666666,
              "#ed7953"
             ],
             [
              0.7777777777777778,
              "#fb9f3a"
             ],
             [
              0.8888888888888888,
              "#fdca26"
             ],
             [
              1,
              "#f0f921"
             ]
            ],
            "type": "heatmap"
           }
          ],
          "heatmapgl": [
           {
            "colorbar": {
             "outlinewidth": 0,
             "ticks": ""
            },
            "colorscale": [
             [
              0,
              "#0d0887"
             ],
             [
              0.1111111111111111,
              "#46039f"
             ],
             [
              0.2222222222222222,
              "#7201a8"
             ],
             [
              0.3333333333333333,
              "#9c179e"
             ],
             [
              0.4444444444444444,
              "#bd3786"
             ],
             [
              0.5555555555555556,
              "#d8576b"
             ],
             [
              0.6666666666666666,
              "#ed7953"
             ],
             [
              0.7777777777777778,
              "#fb9f3a"
             ],
             [
              0.8888888888888888,
              "#fdca26"
             ],
             [
              1,
              "#f0f921"
             ]
            ],
            "type": "heatmapgl"
           }
          ],
          "histogram": [
           {
            "marker": {
             "pattern": {
              "fillmode": "overlay",
              "size": 10,
              "solidity": 0.2
             }
            },
            "type": "histogram"
           }
          ],
          "histogram2d": [
           {
            "colorbar": {
             "outlinewidth": 0,
             "ticks": ""
            },
            "colorscale": [
             [
              0,
              "#0d0887"
             ],
             [
              0.1111111111111111,
              "#46039f"
             ],
             [
              0.2222222222222222,
              "#7201a8"
             ],
             [
              0.3333333333333333,
              "#9c179e"
             ],
             [
              0.4444444444444444,
              "#bd3786"
             ],
             [
              0.5555555555555556,
              "#d8576b"
             ],
             [
              0.6666666666666666,
              "#ed7953"
             ],
             [
              0.7777777777777778,
              "#fb9f3a"
             ],
             [
              0.8888888888888888,
              "#fdca26"
             ],
             [
              1,
              "#f0f921"
             ]
            ],
            "type": "histogram2d"
           }
          ],
          "histogram2dcontour": [
           {
            "colorbar": {
             "outlinewidth": 0,
             "ticks": ""
            },
            "colorscale": [
             [
              0,
              "#0d0887"
             ],
             [
              0.1111111111111111,
              "#46039f"
             ],
             [
              0.2222222222222222,
              "#7201a8"
             ],
             [
              0.3333333333333333,
              "#9c179e"
             ],
             [
              0.4444444444444444,
              "#bd3786"
             ],
             [
              0.5555555555555556,
              "#d8576b"
             ],
             [
              0.6666666666666666,
              "#ed7953"
             ],
             [
              0.7777777777777778,
              "#fb9f3a"
             ],
             [
              0.8888888888888888,
              "#fdca26"
             ],
             [
              1,
              "#f0f921"
             ]
            ],
            "type": "histogram2dcontour"
           }
          ],
          "mesh3d": [
           {
            "colorbar": {
             "outlinewidth": 0,
             "ticks": ""
            },
            "type": "mesh3d"
           }
          ],
          "parcoords": [
           {
            "line": {
             "colorbar": {
              "outlinewidth": 0,
              "ticks": ""
             }
            },
            "type": "parcoords"
           }
          ],
          "pie": [
           {
            "automargin": true,
            "type": "pie"
           }
          ],
          "scatter": [
           {
            "fillpattern": {
             "fillmode": "overlay",
             "size": 10,
             "solidity": 0.2
            },
            "type": "scatter"
           }
          ],
          "scatter3d": [
           {
            "line": {
             "colorbar": {
              "outlinewidth": 0,
              "ticks": ""
             }
            },
            "marker": {
             "colorbar": {
              "outlinewidth": 0,
              "ticks": ""
             }
            },
            "type": "scatter3d"
           }
          ],
          "scattercarpet": [
           {
            "marker": {
             "colorbar": {
              "outlinewidth": 0,
              "ticks": ""
             }
            },
            "type": "scattercarpet"
           }
          ],
          "scattergeo": [
           {
            "marker": {
             "colorbar": {
              "outlinewidth": 0,
              "ticks": ""
             }
            },
            "type": "scattergeo"
           }
          ],
          "scattergl": [
           {
            "marker": {
             "colorbar": {
              "outlinewidth": 0,
              "ticks": ""
             }
            },
            "type": "scattergl"
           }
          ],
          "scattermapbox": [
           {
            "marker": {
             "colorbar": {
              "outlinewidth": 0,
              "ticks": ""
             }
            },
            "type": "scattermapbox"
           }
          ],
          "scatterpolar": [
           {
            "marker": {
             "colorbar": {
              "outlinewidth": 0,
              "ticks": ""
             }
            },
            "type": "scatterpolar"
           }
          ],
          "scatterpolargl": [
           {
            "marker": {
             "colorbar": {
              "outlinewidth": 0,
              "ticks": ""
             }
            },
            "type": "scatterpolargl"
           }
          ],
          "scatterternary": [
           {
            "marker": {
             "colorbar": {
              "outlinewidth": 0,
              "ticks": ""
             }
            },
            "type": "scatterternary"
           }
          ],
          "surface": [
           {
            "colorbar": {
             "outlinewidth": 0,
             "ticks": ""
            },
            "colorscale": [
             [
              0,
              "#0d0887"
             ],
             [
              0.1111111111111111,
              "#46039f"
             ],
             [
              0.2222222222222222,
              "#7201a8"
             ],
             [
              0.3333333333333333,
              "#9c179e"
             ],
             [
              0.4444444444444444,
              "#bd3786"
             ],
             [
              0.5555555555555556,
              "#d8576b"
             ],
             [
              0.6666666666666666,
              "#ed7953"
             ],
             [
              0.7777777777777778,
              "#fb9f3a"
             ],
             [
              0.8888888888888888,
              "#fdca26"
             ],
             [
              1,
              "#f0f921"
             ]
            ],
            "type": "surface"
           }
          ],
          "table": [
           {
            "cells": {
             "fill": {
              "color": "#EBF0F8"
             },
             "line": {
              "color": "white"
             }
            },
            "header": {
             "fill": {
              "color": "#C8D4E3"
             },
             "line": {
              "color": "white"
             }
            },
            "type": "table"
           }
          ]
         },
         "layout": {
          "annotationdefaults": {
           "arrowcolor": "#2a3f5f",
           "arrowhead": 0,
           "arrowwidth": 1
          },
          "autotypenumbers": "strict",
          "coloraxis": {
           "colorbar": {
            "outlinewidth": 0,
            "ticks": ""
           }
          },
          "colorscale": {
           "diverging": [
            [
             0,
             "#8e0152"
            ],
            [
             0.1,
             "#c51b7d"
            ],
            [
             0.2,
             "#de77ae"
            ],
            [
             0.3,
             "#f1b6da"
            ],
            [
             0.4,
             "#fde0ef"
            ],
            [
             0.5,
             "#f7f7f7"
            ],
            [
             0.6,
             "#e6f5d0"
            ],
            [
             0.7,
             "#b8e186"
            ],
            [
             0.8,
             "#7fbc41"
            ],
            [
             0.9,
             "#4d9221"
            ],
            [
             1,
             "#276419"
            ]
           ],
           "sequential": [
            [
             0,
             "#0d0887"
            ],
            [
             0.1111111111111111,
             "#46039f"
            ],
            [
             0.2222222222222222,
             "#7201a8"
            ],
            [
             0.3333333333333333,
             "#9c179e"
            ],
            [
             0.4444444444444444,
             "#bd3786"
            ],
            [
             0.5555555555555556,
             "#d8576b"
            ],
            [
             0.6666666666666666,
             "#ed7953"
            ],
            [
             0.7777777777777778,
             "#fb9f3a"
            ],
            [
             0.8888888888888888,
             "#fdca26"
            ],
            [
             1,
             "#f0f921"
            ]
           ],
           "sequentialminus": [
            [
             0,
             "#0d0887"
            ],
            [
             0.1111111111111111,
             "#46039f"
            ],
            [
             0.2222222222222222,
             "#7201a8"
            ],
            [
             0.3333333333333333,
             "#9c179e"
            ],
            [
             0.4444444444444444,
             "#bd3786"
            ],
            [
             0.5555555555555556,
             "#d8576b"
            ],
            [
             0.6666666666666666,
             "#ed7953"
            ],
            [
             0.7777777777777778,
             "#fb9f3a"
            ],
            [
             0.8888888888888888,
             "#fdca26"
            ],
            [
             1,
             "#f0f921"
            ]
           ]
          },
          "colorway": [
           "#636efa",
           "#EF553B",
           "#00cc96",
           "#ab63fa",
           "#FFA15A",
           "#19d3f3",
           "#FF6692",
           "#B6E880",
           "#FF97FF",
           "#FECB52"
          ],
          "font": {
           "color": "#2a3f5f"
          },
          "geo": {
           "bgcolor": "white",
           "lakecolor": "white",
           "landcolor": "#E5ECF6",
           "showlakes": true,
           "showland": true,
           "subunitcolor": "white"
          },
          "hoverlabel": {
           "align": "left"
          },
          "hovermode": "closest",
          "mapbox": {
           "style": "light"
          },
          "paper_bgcolor": "white",
          "plot_bgcolor": "#E5ECF6",
          "polar": {
           "angularaxis": {
            "gridcolor": "white",
            "linecolor": "white",
            "ticks": ""
           },
           "bgcolor": "#E5ECF6",
           "radialaxis": {
            "gridcolor": "white",
            "linecolor": "white",
            "ticks": ""
           }
          },
          "scene": {
           "xaxis": {
            "backgroundcolor": "#E5ECF6",
            "gridcolor": "white",
            "gridwidth": 2,
            "linecolor": "white",
            "showbackground": true,
            "ticks": "",
            "zerolinecolor": "white"
           },
           "yaxis": {
            "backgroundcolor": "#E5ECF6",
            "gridcolor": "white",
            "gridwidth": 2,
            "linecolor": "white",
            "showbackground": true,
            "ticks": "",
            "zerolinecolor": "white"
           },
           "zaxis": {
            "backgroundcolor": "#E5ECF6",
            "gridcolor": "white",
            "gridwidth": 2,
            "linecolor": "white",
            "showbackground": true,
            "ticks": "",
            "zerolinecolor": "white"
           }
          },
          "shapedefaults": {
           "line": {
            "color": "#2a3f5f"
           }
          },
          "ternary": {
           "aaxis": {
            "gridcolor": "white",
            "linecolor": "white",
            "ticks": ""
           },
           "baxis": {
            "gridcolor": "white",
            "linecolor": "white",
            "ticks": ""
           },
           "bgcolor": "#E5ECF6",
           "caxis": {
            "gridcolor": "white",
            "linecolor": "white",
            "ticks": ""
           }
          },
          "title": {
           "x": 0.05
          },
          "xaxis": {
           "automargin": true,
           "gridcolor": "white",
           "linecolor": "white",
           "ticks": "",
           "title": {
            "standoff": 15
           },
           "zerolinecolor": "white",
           "zerolinewidth": 2
          },
          "yaxis": {
           "automargin": true,
           "gridcolor": "white",
           "linecolor": "white",
           "ticks": "",
           "title": {
            "standoff": 15
           },
           "zerolinecolor": "white",
           "zerolinewidth": 2
          }
         }
        },
        "title": {
         "text": "Map Awarness"
        }
       }
      },
      "image/png": "[encoded data removed]"
     },
     "metadata": {},
     "output_type": "display_data"
    }
   ],
   "source": [
    "import pandas as pd\n",
    "import plotly.graph_objects as go\n",
    "\n",
    "columns = [\"visionScorePerMinute\" , \"wardsPlaced\", \"controlWardsPlaced\", \"stealthWardsPlaced\", \"wardTakedowns\", \"wardsGuarded\", \"visionScorePerMinute\"]\n",
    "\n",
    "# categories = [Vision score Per Minute, Ward Per Minute, Vision Ward Per Minute, Ward Cleared Per Minute]\n",
    "# visionScore                        object\n",
    "# visionScorePerMinute              float64\n",
    "# wardsPlaced                        object\n",
    "# controlWardsPlaced                 object\n",
    "# stealthWardsPlaced                 object\n",
    "# wardTakedowns                      object\n",
    "# wardsKilled                        object\n",
    "# wardsGuarded                       object\n",
    "\n",
    "chemin_data_5 = chemin_scouting + \"/datas/matches/equipes/GW/lol_df_ayekasia.pkl\"\n",
    "data_lol_5 = pd.read_pickle(chemin_data_5)\n",
    "summoner_name_5 = data_lol_5[\"summonerName\"][0]\n",
    "\n",
    "\n",
    "data_lol = data_lol_5\n",
    "summoner_name = summoner_name_5\n",
    "data_lol = data_lol[data_lol[\"gameDuration\"]>0]\n",
    "data = data_lol[columns].mean()\n",
    "\n",
    "first_row = data.iloc[[0]]\n",
    "data = pd.concat([data, first_row], ignore_index=True)\n",
    "\n",
    "print(data)\n",
    "\n",
    "fig = go.Figure(\n",
    "    data=[\n",
    "        go.Scatterpolar(r=data, theta=columns, name=summoner_name),\n",
    "        ],\n",
    "    layout=go.Layout(\n",
    "        title=go.layout.Title(text='Map Awarness'),\n",
    "        showlegend=True\n",
    "    )\n",
    ")\n",
    "\n",
    "fig.show()"
   ]
  },
  {
   "cell_type": "markdown",
   "metadata": {},
   "source": [
    "## Objectif et stratégie (Objective and Strategy)"
   ]
  },
  {
   "cell_type": "markdown",
   "metadata": {},
   "source": [
    "Cette méta-variable peut être évaluée en utilisant des statistiques telles que le taux de participation aux objectifs (tours, dragons,barons, etc). Ces statistiques montrent la capacité du joueur à prendre des décisions stratégiques et à coordonner son équipe.\n",
    "\n",
    "On pourrait aussi rajouter le nombre de plaques éliminées ou le pourcentage de dommage infligé aux tours qui serait plus représentatif des compétences individuelles plutôt que collectives."
   ]
  },
  {
   "cell_type": "code",
   "execution_count": 31,
   "metadata": {},
   "outputs": [
    {
     "data": {
      "application/vnd.plotly.v1+json": {
       "config": {
        "plotlyServerURL": "https://plot.ly"
       },
       "data": [
        {
         "name": "ayekasia",
         "r": [
          0.66,
          0.39,
          1.55,
          0.5,
          0.66,
          0.66
         ],
         "theta": [
          "dragonTakedowns",
          "baronTakedowns",
          "turretTakedowns",
          "inhibitorTakedowns",
          "dragonTakedowns"
         ],
         "type": "scatterpolar"
        }
       ],
       "layout": {
        "autosize": true,
        "polar": {
         "angularaxis": {
          "type": "category"
         },
         "radialaxis": {
          "autorange": true,
          "range": [
           0,
           1.617391304347826
          ],
          "type": "linear"
         }
        },
        "showlegend": true,
        "template": {
         "data": {
          "bar": [
           {
            "error_x": {
             "color": "#2a3f5f"
            },
            "error_y": {
             "color": "#2a3f5f"
            },
            "marker": {
             "line": {
              "color": "#E5ECF6",
              "width": 0.5
             },
             "pattern": {
              "fillmode": "overlay",
              "size": 10,
              "solidity": 0.2
             }
            },
            "type": "bar"
           }
          ],
          "barpolar": [
           {
            "marker": {
             "line": {
              "color": "#E5ECF6",
              "width": 0.5
             },
             "pattern": {
              "fillmode": "overlay",
              "size": 10,
              "solidity": 0.2
             }
            },
            "type": "barpolar"
           }
          ],
          "carpet": [
           {
            "aaxis": {
             "endlinecolor": "#2a3f5f",
             "gridcolor": "white",
             "linecolor": "white",
             "minorgridcolor": "white",
             "startlinecolor": "#2a3f5f"
            },
            "baxis": {
             "endlinecolor": "#2a3f5f",
             "gridcolor": "white",
             "linecolor": "white",
             "minorgridcolor": "white",
             "startlinecolor": "#2a3f5f"
            },
            "type": "carpet"
           }
          ],
          "choropleth": [
           {
            "colorbar": {
             "outlinewidth": 0,
             "ticks": ""
            },
            "type": "choropleth"
           }
          ],
          "contour": [
           {
            "colorbar": {
             "outlinewidth": 0,
             "ticks": ""
            },
            "colorscale": [
             [
              0,
              "#0d0887"
             ],
             [
              0.1111111111111111,
              "#46039f"
             ],
             [
              0.2222222222222222,
              "#7201a8"
             ],
             [
              0.3333333333333333,
              "#9c179e"
             ],
             [
              0.4444444444444444,
              "#bd3786"
             ],
             [
              0.5555555555555556,
              "#d8576b"
             ],
             [
              0.6666666666666666,
              "#ed7953"
             ],
             [
              0.7777777777777778,
              "#fb9f3a"
             ],
             [
              0.8888888888888888,
              "#fdca26"
             ],
             [
              1,
              "#f0f921"
             ]
            ],
            "type": "contour"
           }
          ],
          "contourcarpet": [
           {
            "colorbar": {
             "outlinewidth": 0,
             "ticks": ""
            },
            "type": "contourcarpet"
           }
          ],
          "heatmap": [
           {
            "colorbar": {
             "outlinewidth": 0,
             "ticks": ""
            },
            "colorscale": [
             [
              0,
              "#0d0887"
             ],
             [
              0.1111111111111111,
              "#46039f"
             ],
             [
              0.2222222222222222,
              "#7201a8"
             ],
             [
              0.3333333333333333,
              "#9c179e"
             ],
             [
              0.4444444444444444,
              "#bd3786"
             ],
             [
              0.5555555555555556,
              "#d8576b"
             ],
             [
              0.6666666666666666,
              "#ed7953"
             ],
             [
              0.7777777777777778,
              "#fb9f3a"
             ],
             [
              0.8888888888888888,
              "#fdca26"
             ],
             [
              1,
              "#f0f921"
             ]
            ],
            "type": "heatmap"
           }
          ],
          "heatmapgl": [
           {
            "colorbar": {
             "outlinewidth": 0,
             "ticks": ""
            },
            "colorscale": [
             [
              0,
              "#0d0887"
             ],
             [
              0.1111111111111111,
              "#46039f"
             ],
             [
              0.2222222222222222,
              "#7201a8"
             ],
             [
              0.3333333333333333,
              "#9c179e"
             ],
             [
              0.4444444444444444,
              "#bd3786"
             ],
             [
              0.5555555555555556,
              "#d8576b"
             ],
             [
              0.6666666666666666,
              "#ed7953"
             ],
             [
              0.7777777777777778,
              "#fb9f3a"
             ],
             [
              0.8888888888888888,
              "#fdca26"
             ],
             [
              1,
              "#f0f921"
             ]
            ],
            "type": "heatmapgl"
           }
          ],
          "histogram": [
           {
            "marker": {
             "pattern": {
              "fillmode": "overlay",
              "size": 10,
              "solidity": 0.2
             }
            },
            "type": "histogram"
           }
          ],
          "histogram2d": [
           {
            "colorbar": {
             "outlinewidth": 0,
             "ticks": ""
            },
            "colorscale": [
             [
              0,
              "#0d0887"
             ],
             [
              0.1111111111111111,
              "#46039f"
             ],
             [
              0.2222222222222222,
              "#7201a8"
             ],
             [
              0.3333333333333333,
              "#9c179e"
             ],
             [
              0.4444444444444444,
              "#bd3786"
             ],
             [
              0.5555555555555556,
              "#d8576b"
             ],
             [
              0.6666666666666666,
              "#ed7953"
             ],
             [
              0.7777777777777778,
              "#fb9f3a"
             ],
             [
              0.8888888888888888,
              "#fdca26"
             ],
             [
              1,
              "#f0f921"
             ]
            ],
            "type": "histogram2d"
           }
          ],
          "histogram2dcontour": [
           {
            "colorbar": {
             "outlinewidth": 0,
             "ticks": ""
            },
            "colorscale": [
             [
              0,
              "#0d0887"
             ],
             [
              0.1111111111111111,
              "#46039f"
             ],
             [
              0.2222222222222222,
              "#7201a8"
             ],
             [
              0.3333333333333333,
              "#9c179e"
             ],
             [
              0.4444444444444444,
              "#bd3786"
             ],
             [
              0.5555555555555556,
              "#d8576b"
             ],
             [
              0.6666666666666666,
              "#ed7953"
             ],
             [
              0.7777777777777778,
              "#fb9f3a"
             ],
             [
              0.8888888888888888,
              "#fdca26"
             ],
             [
              1,
              "#f0f921"
             ]
            ],
            "type": "histogram2dcontour"
           }
          ],
          "mesh3d": [
           {
            "colorbar": {
             "outlinewidth": 0,
             "ticks": ""
            },
            "type": "mesh3d"
           }
          ],
          "parcoords": [
           {
            "line": {
             "colorbar": {
              "outlinewidth": 0,
              "ticks": ""
             }
            },
            "type": "parcoords"
           }
          ],
          "pie": [
           {
            "automargin": true,
            "type": "pie"
           }
          ],
          "scatter": [
           {
            "fillpattern": {
             "fillmode": "overlay",
             "size": 10,
             "solidity": 0.2
            },
            "type": "scatter"
           }
          ],
          "scatter3d": [
           {
            "line": {
             "colorbar": {
              "outlinewidth": 0,
              "ticks": ""
             }
            },
            "marker": {
             "colorbar": {
              "outlinewidth": 0,
              "ticks": ""
             }
            },
            "type": "scatter3d"
           }
          ],
          "scattercarpet": [
           {
            "marker": {
             "colorbar": {
              "outlinewidth": 0,
              "ticks": ""
             }
            },
            "type": "scattercarpet"
           }
          ],
          "scattergeo": [
           {
            "marker": {
             "colorbar": {
              "outlinewidth": 0,
              "ticks": ""
             }
            },
            "type": "scattergeo"
           }
          ],
          "scattergl": [
           {
            "marker": {
             "colorbar": {
              "outlinewidth": 0,
              "ticks": ""
             }
            },
            "type": "scattergl"
           }
          ],
          "scattermapbox": [
           {
            "marker": {
             "colorbar": {
              "outlinewidth": 0,
              "ticks": ""
             }
            },
            "type": "scattermapbox"
           }
          ],
          "scatterpolar": [
           {
            "marker": {
             "colorbar": {
              "outlinewidth": 0,
              "ticks": ""
             }
            },
            "type": "scatterpolar"
           }
          ],
          "scatterpolargl": [
           {
            "marker": {
             "colorbar": {
              "outlinewidth": 0,
              "ticks": ""
             }
            },
            "type": "scatterpolargl"
           }
          ],
          "scatterternary": [
           {
            "marker": {
             "colorbar": {
              "outlinewidth": 0,
              "ticks": ""
             }
            },
            "type": "scatterternary"
           }
          ],
          "surface": [
           {
            "colorbar": {
             "outlinewidth": 0,
             "ticks": ""
            },
            "colorscale": [
             [
              0,
              "#0d0887"
             ],
             [
              0.1111111111111111,
              "#46039f"
             ],
             [
              0.2222222222222222,
              "#7201a8"
             ],
             [
              0.3333333333333333,
              "#9c179e"
             ],
             [
              0.4444444444444444,
              "#bd3786"
             ],
             [
              0.5555555555555556,
              "#d8576b"
             ],
             [
              0.6666666666666666,
              "#ed7953"
             ],
             [
              0.7777777777777778,
              "#fb9f3a"
             ],
             [
              0.8888888888888888,
              "#fdca26"
             ],
             [
              1,
              "#f0f921"
             ]
            ],
            "type": "surface"
           }
          ],
          "table": [
           {
            "cells": {
             "fill": {
              "color": "#EBF0F8"
             },
             "line": {
              "color": "white"
             }
            },
            "header": {
             "fill": {
              "color": "#C8D4E3"
             },
             "line": {
              "color": "white"
             }
            },
            "type": "table"
           }
          ]
         },
         "layout": {
          "annotationdefaults": {
           "arrowcolor": "#2a3f5f",
           "arrowhead": 0,
           "arrowwidth": 1
          },
          "autotypenumbers": "strict",
          "coloraxis": {
           "colorbar": {
            "outlinewidth": 0,
            "ticks": ""
           }
          },
          "colorscale": {
           "diverging": [
            [
             0,
             "#8e0152"
            ],
            [
             0.1,
             "#c51b7d"
            ],
            [
             0.2,
             "#de77ae"
            ],
            [
             0.3,
             "#f1b6da"
            ],
            [
             0.4,
             "#fde0ef"
            ],
            [
             0.5,
             "#f7f7f7"
            ],
            [
             0.6,
             "#e6f5d0"
            ],
            [
             0.7,
             "#b8e186"
            ],
            [
             0.8,
             "#7fbc41"
            ],
            [
             0.9,
             "#4d9221"
            ],
            [
             1,
             "#276419"
            ]
           ],
           "sequential": [
            [
             0,
             "#0d0887"
            ],
            [
             0.1111111111111111,
             "#46039f"
            ],
            [
             0.2222222222222222,
             "#7201a8"
            ],
            [
             0.3333333333333333,
             "#9c179e"
            ],
            [
             0.4444444444444444,
             "#bd3786"
            ],
            [
             0.5555555555555556,
             "#d8576b"
            ],
            [
             0.6666666666666666,
             "#ed7953"
            ],
            [
             0.7777777777777778,
             "#fb9f3a"
            ],
            [
             0.8888888888888888,
             "#fdca26"
            ],
            [
             1,
             "#f0f921"
            ]
           ],
           "sequentialminus": [
            [
             0,
             "#0d0887"
            ],
            [
             0.1111111111111111,
             "#46039f"
            ],
            [
             0.2222222222222222,
             "#7201a8"
            ],
            [
             0.3333333333333333,
             "#9c179e"
            ],
            [
             0.4444444444444444,
             "#bd3786"
            ],
            [
             0.5555555555555556,
             "#d8576b"
            ],
            [
             0.6666666666666666,
             "#ed7953"
            ],
            [
             0.7777777777777778,
             "#fb9f3a"
            ],
            [
             0.8888888888888888,
             "#fdca26"
            ],
            [
             1,
             "#f0f921"
            ]
           ]
          },
          "colorway": [
           "#636efa",
           "#EF553B",
           "#00cc96",
           "#ab63fa",
           "#FFA15A",
           "#19d3f3",
           "#FF6692",
           "#B6E880",
           "#FF97FF",
           "#FECB52"
          ],
          "font": {
           "color": "#2a3f5f"
          },
          "geo": {
           "bgcolor": "white",
           "lakecolor": "white",
           "landcolor": "#E5ECF6",
           "showlakes": true,
           "showland": true,
           "subunitcolor": "white"
          },
          "hoverlabel": {
           "align": "left"
          },
          "hovermode": "closest",
          "mapbox": {
           "style": "light"
          },
          "paper_bgcolor": "white",
          "plot_bgcolor": "#E5ECF6",
          "polar": {
           "angularaxis": {
            "gridcolor": "white",
            "linecolor": "white",
            "ticks": ""
           },
           "bgcolor": "#E5ECF6",
           "radialaxis": {
            "gridcolor": "white",
            "linecolor": "white",
            "ticks": ""
           }
          },
          "scene": {
           "xaxis": {
            "backgroundcolor": "#E5ECF6",
            "gridcolor": "white",
            "gridwidth": 2,
            "linecolor": "white",
            "showbackground": true,
            "ticks": "",
            "zerolinecolor": "white"
           },
           "yaxis": {
            "backgroundcolor": "#E5ECF6",
            "gridcolor": "white",
            "gridwidth": 2,
            "linecolor": "white",
            "showbackground": true,
            "ticks": "",
            "zerolinecolor": "white"
           },
           "zaxis": {
            "backgroundcolor": "#E5ECF6",
            "gridcolor": "white",
            "gridwidth": 2,
            "linecolor": "white",
            "showbackground": true,
            "ticks": "",
            "zerolinecolor": "white"
           }
          },
          "shapedefaults": {
           "line": {
            "color": "#2a3f5f"
           }
          },
          "ternary": {
           "aaxis": {
            "gridcolor": "white",
            "linecolor": "white",
            "ticks": ""
           },
           "baxis": {
            "gridcolor": "white",
            "linecolor": "white",
            "ticks": ""
           },
           "bgcolor": "#E5ECF6",
           "caxis": {
            "gridcolor": "white",
            "linecolor": "white",
            "ticks": ""
           }
          },
          "title": {
           "x": 0.05
          },
          "xaxis": {
           "automargin": true,
           "gridcolor": "white",
           "linecolor": "white",
           "ticks": "",
           "title": {
            "standoff": 15
           },
           "zerolinecolor": "white",
           "zerolinewidth": 2
          },
          "yaxis": {
           "automargin": true,
           "gridcolor": "white",
           "linecolor": "white",
           "ticks": "",
           "title": {
            "standoff": 15
           },
           "zerolinecolor": "white",
           "zerolinewidth": 2
          }
         }
        },
        "title": {
         "text": "Objective and Strategy"
        }
       }
      },
      "image/png": "[encoded data removed]"
     },
     "metadata": {},
     "output_type": "display_data"
    }
   ],
   "source": [
    "import pandas as pd\n",
    "import plotly.graph_objects as go\n",
    "\n",
    "# - drake / herald / barron\n",
    "# - turret / inhibitor / nexus\n",
    "# 2 branches avec tourelles plates inib et baron drake etc\n",
    "# dragonKills\n",
    "# baronKills\n",
    "# turretKills\n",
    "# inhibitorKills\n",
    "\n",
    "# dragonTakedowns                    object\n",
    "# baronTakedowns                     object\n",
    "# firstTowerAssist                   object\n",
    "# firstTowerKill                     object\n",
    "# turretKills                        object\n",
    "# turretTakedowns                    object\n",
    "# turretsLost                        object\n",
    "# inhibitorKills                     object\n",
    "# inhibitorTakedowns                 object\n",
    "# inhibitorsLost                     object\n",
    "# nexusKills                         object\n",
    "# nexusLost                          object\n",
    "\n",
    "# dragonTakedowns                    \n",
    "# baronTakedowns \n",
    "# inhibitorTakedowns   \n",
    "# turretTakedowns \n",
    "# heraldTakedowns ???????\n",
    "# plates ??\n",
    "\n",
    "\n",
    "columns = [\"dragonTakedowns\" , \"baronTakedowns\", \"turretTakedowns\", \"inhibitorTakedowns\"]\n",
    "columns.append(columns[0])\n",
    "\n",
    "\n",
    "chemin_data_5 = chemin_scouting + \"/datas/matches/equipes/GW/lol_df_ayekasia.pkl\"\n",
    "data_lol_5 = pd.read_pickle(chemin_data_5)\n",
    "summoner_name_5 = data_lol_5[\"summonerName\"][0]\n",
    "data_lol = data_lol_5\n",
    "summoner_name = summoner_name_5\n",
    "\n",
    "\n",
    "data_lol = data_lol[data_lol[\"gameDuration\"]>0]\n",
    "data = data_lol[columns].mean()\n",
    "\n",
    "first_row = data.iloc[[0]]\n",
    "data = pd.concat([data, first_row], ignore_index=True)\n",
    "\n",
    "fig = go.Figure(\n",
    "    data=[\n",
    "        go.Scatterpolar(r=data, theta=columns, name=summoner_name),\n",
    "        ],\n",
    "    layout=go.Layout(\n",
    "        title=go.layout.Title(text='Objective and Strategy'),\n",
    "        showlegend=True\n",
    "    )\n",
    ")\n",
    "\n",
    "fig.show()"
   ]
  },
  {
   "cell_type": "markdown",
   "metadata": {},
   "source": [
    "## Adaptabilité (Adaptability)"
   ]
  },
  {
   "cell_type": "markdown",
   "metadata": {},
   "source": [
    "Cette méta-variable peut être évaluée en utilisant des statistiques telles que la diversité des champions joués ainsi que le taux de victoire avec différents champions, etc. Ces statistiques indiquent la capacité du joueur à s'adapter à différentes situations de jeu.\n",
    "\n",
    "On pourrait regarder le pourcentage de champions ayant un winrate > 50% parmi les champions joués les x derniers matchs.\n",
    "On pourrait aussi regarder le nombre de champions joués les x dernières semaines. "
   ]
  },
  {
   "cell_type": "code",
   "execution_count": 32,
   "metadata": {},
   "outputs": [
    {
     "name": "stdout",
     "output_type": "stream",
     "text": [
      "              win_zrh2  win_ayekasia\n",
      "championName                        \n",
      "Nautilus           0.0           0.6\n"
     ]
    }
   ],
   "source": [
    "import pandas as pd\n",
    "\n",
    "chemin_data_1 = chemin_scouting + \"/datas/matches/equipes/GW/lol_df_zrh2.pkl\"\n",
    "data_lol_1 = pd.read_pickle(chemin_data_1)\n",
    "summoner_name_1 = data_lol_1[\"summonerName\"][0]\n",
    "mean_win_rate_by_champion_1 = data_lol_1.groupby(\"championName\")[\"win\"].mean()\n",
    "mean_win_rate_by_champion_1\n",
    "\n",
    "chemin_data_2 = chemin_scouting + \"/datas/matches/equipes/GW/lol_df_ayekasia.pkl\"\n",
    "data_lol_2 = pd.read_pickle(chemin_data_2)\n",
    "summoner_name_2 = data_lol_2[\"summonerName\"][0]\n",
    "mean_win_rate_by_champion_2 = data_lol_2.groupby(\"championName\")[\"win\"].mean()\n",
    "mean_win_rate_by_champion_2\n",
    "\n",
    "# Merge the two datasets on the \"championName\" column\n",
    "merged_data = pd.merge(mean_win_rate_by_champion_1, mean_win_rate_by_champion_2, on=\"championName\", suffixes=('_'+summoner_name_1, '_'+summoner_name_2))\n",
    "\n",
    "# Display the comparative table\n",
    "print(merged_data)"
   ]
  },
  {
   "cell_type": "markdown",
   "metadata": {},
   "source": [
    "## Communication et coopération (Communication and Cooperation)"
   ]
  },
  {
   "cell_type": "markdown",
   "metadata": {},
   "source": [
    "Cette méta-variable peut être plus difficile à évaluer uniquement à partir des statistiques disponibles. Cependant, on peut évaluer cette compétence en se basant sur des critères tels que le taux de ping sur la carte. Ces statistiques peuvent donner une idée de la communication et de la coopération du joueur. "
   ]
  },
  {
   "cell_type": "code",
   "execution_count": 33,
   "metadata": {},
   "outputs": [
    {
     "data": {
      "application/vnd.plotly.v1+json": {
       "config": {
        "plotlyServerURL": "https://plot.ly"
       },
       "data": [
        {
         "name": "zrh2",
         "r": [
          24.48,
          7.47,
          0,
          0.04,
          8.77,
          3.88,
          24.48,
          24.48
         ],
         "theta": [
          "onMyWayPings",
          "enemyMissingPings",
          "dangerPings",
          "visionClearedPings",
          "getBackPings",
          "allInPings",
          "onMyWayPings"
         ],
         "type": "scatterpolar"
        },
        {
         "name": "Badlulu00",
         "r": [
          21.3,
          6.4,
          0,
          0.01,
          0.84,
          0.43,
          21.3,
          21.3
         ],
         "theta": [
          "onMyWayPings",
          "enemyMissingPings",
          "dangerPings",
          "visionClearedPings",
          "getBackPings",
          "allInPings",
          "onMyWayPings"
         ],
         "type": "scatterpolar"
        },
        {
         "name": "Practice",
         "r": [
          2.36,
          0.87,
          0,
          0.01,
          0,
          0.28,
          2.36,
          2.36
         ],
         "theta": [
          "onMyWayPings",
          "enemyMissingPings",
          "dangerPings",
          "visionClearedPings",
          "getBackPings",
          "allInPings",
          "onMyWayPings"
         ],
         "type": "scatterpolar"
        },
        {
         "name": "GW Villager",
         "r": [
          48.6,
          13.6,
          0,
          0.01,
          0,
          0.78,
          48.6,
          48.6
         ],
         "theta": [
          "onMyWayPings",
          "enemyMissingPings",
          "dangerPings",
          "visionClearedPings",
          "getBackPings",
          "allInPings",
          "onMyWayPings"
         ],
         "type": "scatterpolar"
        },
        {
         "name": "ayekasia",
         "r": [
          8.05,
          1.78,
          0,
          0.12,
          5.23,
          1,
          8.05,
          8.05
         ],
         "theta": [
          "onMyWayPings",
          "enemyMissingPings",
          "dangerPings",
          "visionClearedPings",
          "getBackPings",
          "allInPings",
          "onMyWayPings"
         ],
         "type": "scatterpolar"
        }
       ],
       "layout": {
        "autosize": true,
        "polar": {
         "angularaxis": {
          "type": "category"
         },
         "radialaxis": {
          "autorange": true,
          "range": [
           0,
           50.71304347826087
          ],
          "type": "linear"
         }
        },
        "showlegend": true,
        "template": {
         "data": {
          "bar": [
           {
            "error_x": {
             "color": "#2a3f5f"
            },
            "error_y": {
             "color": "#2a3f5f"
            },
            "marker": {
             "line": {
              "color": "#E5ECF6",
              "width": 0.5
             },
             "pattern": {
              "fillmode": "overlay",
              "size": 10,
              "solidity": 0.2
             }
            },
            "type": "bar"
           }
          ],
          "barpolar": [
           {
            "marker": {
             "line": {
              "color": "#E5ECF6",
              "width": 0.5
             },
             "pattern": {
              "fillmode": "overlay",
              "size": 10,
              "solidity": 0.2
             }
            },
            "type": "barpolar"
           }
          ],
          "carpet": [
           {
            "aaxis": {
             "endlinecolor": "#2a3f5f",
             "gridcolor": "white",
             "linecolor": "white",
             "minorgridcolor": "white",
             "startlinecolor": "#2a3f5f"
            },
            "baxis": {
             "endlinecolor": "#2a3f5f",
             "gridcolor": "white",
             "linecolor": "white",
             "minorgridcolor": "white",
             "startlinecolor": "#2a3f5f"
            },
            "type": "carpet"
           }
          ],
          "choropleth": [
           {
            "colorbar": {
             "outlinewidth": 0,
             "ticks": ""
            },
            "type": "choropleth"
           }
          ],
          "contour": [
           {
            "colorbar": {
             "outlinewidth": 0,
             "ticks": ""
            },
            "colorscale": [
             [
              0,
              "#0d0887"
             ],
             [
              0.1111111111111111,
              "#46039f"
             ],
             [
              0.2222222222222222,
              "#7201a8"
             ],
             [
              0.3333333333333333,
              "#9c179e"
             ],
             [
              0.4444444444444444,
              "#bd3786"
             ],
             [
              0.5555555555555556,
              "#d8576b"
             ],
             [
              0.6666666666666666,
              "#ed7953"
             ],
             [
              0.7777777777777778,
              "#fb9f3a"
             ],
             [
              0.8888888888888888,
              "#fdca26"
             ],
             [
              1,
              "#f0f921"
             ]
            ],
            "type": "contour"
           }
          ],
          "contourcarpet": [
           {
            "colorbar": {
             "outlinewidth": 0,
             "ticks": ""
            },
            "type": "contourcarpet"
           }
          ],
          "heatmap": [
           {
            "colorbar": {
             "outlinewidth": 0,
             "ticks": ""
            },
            "colorscale": [
             [
              0,
              "#0d0887"
             ],
             [
              0.1111111111111111,
              "#46039f"
             ],
             [
              0.2222222222222222,
              "#7201a8"
             ],
             [
              0.3333333333333333,
              "#9c179e"
             ],
             [
              0.4444444444444444,
              "#bd3786"
             ],
             [
              0.5555555555555556,
              "#d8576b"
             ],
             [
              0.6666666666666666,
              "#ed7953"
             ],
             [
              0.7777777777777778,
              "#fb9f3a"
             ],
             [
              0.8888888888888888,
              "#fdca26"
             ],
             [
              1,
              "#f0f921"
             ]
            ],
            "type": "heatmap"
           }
          ],
          "heatmapgl": [
           {
            "colorbar": {
             "outlinewidth": 0,
             "ticks": ""
            },
            "colorscale": [
             [
              0,
              "#0d0887"
             ],
             [
              0.1111111111111111,
              "#46039f"
             ],
             [
              0.2222222222222222,
              "#7201a8"
             ],
             [
              0.3333333333333333,
              "#9c179e"
             ],
             [
              0.4444444444444444,
              "#bd3786"
             ],
             [
              0.5555555555555556,
              "#d8576b"
             ],
             [
              0.6666666666666666,
              "#ed7953"
             ],
             [
              0.7777777777777778,
              "#fb9f3a"
             ],
             [
              0.8888888888888888,
              "#fdca26"
             ],
             [
              1,
              "#f0f921"
             ]
            ],
            "type": "heatmapgl"
           }
          ],
          "histogram": [
           {
            "marker": {
             "pattern": {
              "fillmode": "overlay",
              "size": 10,
              "solidity": 0.2
             }
            },
            "type": "histogram"
           }
          ],
          "histogram2d": [
           {
            "colorbar": {
             "outlinewidth": 0,
             "ticks": ""
            },
            "colorscale": [
             [
              0,
              "#0d0887"
             ],
             [
              0.1111111111111111,
              "#46039f"
             ],
             [
              0.2222222222222222,
              "#7201a8"
             ],
             [
              0.3333333333333333,
              "#9c179e"
             ],
             [
              0.4444444444444444,
              "#bd3786"
             ],
             [
              0.5555555555555556,
              "#d8576b"
             ],
             [
              0.6666666666666666,
              "#ed7953"
             ],
             [
              0.7777777777777778,
              "#fb9f3a"
             ],
             [
              0.8888888888888888,
              "#fdca26"
             ],
             [
              1,
              "#f0f921"
             ]
            ],
            "type": "histogram2d"
           }
          ],
          "histogram2dcontour": [
           {
            "colorbar": {
             "outlinewidth": 0,
             "ticks": ""
            },
            "colorscale": [
             [
              0,
              "#0d0887"
             ],
             [
              0.1111111111111111,
              "#46039f"
             ],
             [
              0.2222222222222222,
              "#7201a8"
             ],
             [
              0.3333333333333333,
              "#9c179e"
             ],
             [
              0.4444444444444444,
              "#bd3786"
             ],
             [
              0.5555555555555556,
              "#d8576b"
             ],
             [
              0.6666666666666666,
              "#ed7953"
             ],
             [
              0.7777777777777778,
              "#fb9f3a"
             ],
             [
              0.8888888888888888,
              "#fdca26"
             ],
             [
              1,
              "#f0f921"
             ]
            ],
            "type": "histogram2dcontour"
           }
          ],
          "mesh3d": [
           {
            "colorbar": {
             "outlinewidth": 0,
             "ticks": ""
            },
            "type": "mesh3d"
           }
          ],
          "parcoords": [
           {
            "line": {
             "colorbar": {
              "outlinewidth": 0,
              "ticks": ""
             }
            },
            "type": "parcoords"
           }
          ],
          "pie": [
           {
            "automargin": true,
            "type": "pie"
           }
          ],
          "scatter": [
           {
            "fillpattern": {
             "fillmode": "overlay",
             "size": 10,
             "solidity": 0.2
            },
            "type": "scatter"
           }
          ],
          "scatter3d": [
           {
            "line": {
             "colorbar": {
              "outlinewidth": 0,
              "ticks": ""
             }
            },
            "marker": {
             "colorbar": {
              "outlinewidth": 0,
              "ticks": ""
             }
            },
            "type": "scatter3d"
           }
          ],
          "scattercarpet": [
           {
            "marker": {
             "colorbar": {
              "outlinewidth": 0,
              "ticks": ""
             }
            },
            "type": "scattercarpet"
           }
          ],
          "scattergeo": [
           {
            "marker": {
             "colorbar": {
              "outlinewidth": 0,
              "ticks": ""
             }
            },
            "type": "scattergeo"
           }
          ],
          "scattergl": [
           {
            "marker": {
             "colorbar": {
              "outlinewidth": 0,
              "ticks": ""
             }
            },
            "type": "scattergl"
           }
          ],
          "scattermapbox": [
           {
            "marker": {
             "colorbar": {
              "outlinewidth": 0,
              "ticks": ""
             }
            },
            "type": "scattermapbox"
           }
          ],
          "scatterpolar": [
           {
            "marker": {
             "colorbar": {
              "outlinewidth": 0,
              "ticks": ""
             }
            },
            "type": "scatterpolar"
           }
          ],
          "scatterpolargl": [
           {
            "marker": {
             "colorbar": {
              "outlinewidth": 0,
              "ticks": ""
             }
            },
            "type": "scatterpolargl"
           }
          ],
          "scatterternary": [
           {
            "marker": {
             "colorbar": {
              "outlinewidth": 0,
              "ticks": ""
             }
            },
            "type": "scatterternary"
           }
          ],
          "surface": [
           {
            "colorbar": {
             "outlinewidth": 0,
             "ticks": ""
            },
            "colorscale": [
             [
              0,
              "#0d0887"
             ],
             [
              0.1111111111111111,
              "#46039f"
             ],
             [
              0.2222222222222222,
              "#7201a8"
             ],
             [
              0.3333333333333333,
              "#9c179e"
             ],
             [
              0.4444444444444444,
              "#bd3786"
             ],
             [
              0.5555555555555556,
              "#d8576b"
             ],
             [
              0.6666666666666666,
              "#ed7953"
             ],
             [
              0.7777777777777778,
              "#fb9f3a"
             ],
             [
              0.8888888888888888,
              "#fdca26"
             ],
             [
              1,
              "#f0f921"
             ]
            ],
            "type": "surface"
           }
          ],
          "table": [
           {
            "cells": {
             "fill": {
              "color": "#EBF0F8"
             },
             "line": {
              "color": "white"
             }
            },
            "header": {
             "fill": {
              "color": "#C8D4E3"
             },
             "line": {
              "color": "white"
             }
            },
            "type": "table"
           }
          ]
         },
         "layout": {
          "annotationdefaults": {
           "arrowcolor": "#2a3f5f",
           "arrowhead": 0,
           "arrowwidth": 1
          },
          "autotypenumbers": "strict",
          "coloraxis": {
           "colorbar": {
            "outlinewidth": 0,
            "ticks": ""
           }
          },
          "colorscale": {
           "diverging": [
            [
             0,
             "#8e0152"
            ],
            [
             0.1,
             "#c51b7d"
            ],
            [
             0.2,
             "#de77ae"
            ],
            [
             0.3,
             "#f1b6da"
            ],
            [
             0.4,
             "#fde0ef"
            ],
            [
             0.5,
             "#f7f7f7"
            ],
            [
             0.6,
             "#e6f5d0"
            ],
            [
             0.7,
             "#b8e186"
            ],
            [
             0.8,
             "#7fbc41"
            ],
            [
             0.9,
             "#4d9221"
            ],
            [
             1,
             "#276419"
            ]
           ],
           "sequential": [
            [
             0,
             "#0d0887"
            ],
            [
             0.1111111111111111,
             "#46039f"
            ],
            [
             0.2222222222222222,
             "#7201a8"
            ],
            [
             0.3333333333333333,
             "#9c179e"
            ],
            [
             0.4444444444444444,
             "#bd3786"
            ],
            [
             0.5555555555555556,
             "#d8576b"
            ],
            [
             0.6666666666666666,
             "#ed7953"
            ],
            [
             0.7777777777777778,
             "#fb9f3a"
            ],
            [
             0.8888888888888888,
             "#fdca26"
            ],
            [
             1,
             "#f0f921"
            ]
           ],
           "sequentialminus": [
            [
             0,
             "#0d0887"
            ],
            [
             0.1111111111111111,
             "#46039f"
            ],
            [
             0.2222222222222222,
             "#7201a8"
            ],
            [
             0.3333333333333333,
             "#9c179e"
            ],
            [
             0.4444444444444444,
             "#bd3786"
            ],
            [
             0.5555555555555556,
             "#d8576b"
            ],
            [
             0.6666666666666666,
             "#ed7953"
            ],
            [
             0.7777777777777778,
             "#fb9f3a"
            ],
            [
             0.8888888888888888,
             "#fdca26"
            ],
            [
             1,
             "#f0f921"
            ]
           ]
          },
          "colorway": [
           "#636efa",
           "#EF553B",
           "#00cc96",
           "#ab63fa",
           "#FFA15A",
           "#19d3f3",
           "#FF6692",
           "#B6E880",
           "#FF97FF",
           "#FECB52"
          ],
          "font": {
           "color": "#2a3f5f"
          },
          "geo": {
           "bgcolor": "white",
           "lakecolor": "white",
           "landcolor": "#E5ECF6",
           "showlakes": true,
           "showland": true,
           "subunitcolor": "white"
          },
          "hoverlabel": {
           "align": "left"
          },
          "hovermode": "closest",
          "mapbox": {
           "style": "light"
          },
          "paper_bgcolor": "white",
          "plot_bgcolor": "#E5ECF6",
          "polar": {
           "angularaxis": {
            "gridcolor": "white",
            "linecolor": "white",
            "ticks": ""
           },
           "bgcolor": "#E5ECF6",
           "radialaxis": {
            "gridcolor": "white",
            "linecolor": "white",
            "ticks": ""
           }
          },
          "scene": {
           "xaxis": {
            "backgroundcolor": "#E5ECF6",
            "gridcolor": "white",
            "gridwidth": 2,
            "linecolor": "white",
            "showbackground": true,
            "ticks": "",
            "zerolinecolor": "white"
           },
           "yaxis": {
            "backgroundcolor": "#E5ECF6",
            "gridcolor": "white",
            "gridwidth": 2,
            "linecolor": "white",
            "showbackground": true,
            "ticks": "",
            "zerolinecolor": "white"
           },
           "zaxis": {
            "backgroundcolor": "#E5ECF6",
            "gridcolor": "white",
            "gridwidth": 2,
            "linecolor": "white",
            "showbackground": true,
            "ticks": "",
            "zerolinecolor": "white"
           }
          },
          "shapedefaults": {
           "line": {
            "color": "#2a3f5f"
           }
          },
          "ternary": {
           "aaxis": {
            "gridcolor": "white",
            "linecolor": "white",
            "ticks": ""
           },
           "baxis": {
            "gridcolor": "white",
            "linecolor": "white",
            "ticks": ""
           },
           "bgcolor": "#E5ECF6",
           "caxis": {
            "gridcolor": "white",
            "linecolor": "white",
            "ticks": ""
           }
          },
          "title": {
           "x": 0.05
          },
          "xaxis": {
           "automargin": true,
           "gridcolor": "white",
           "linecolor": "white",
           "ticks": "",
           "title": {
            "standoff": 15
           },
           "zerolinecolor": "white",
           "zerolinewidth": 2
          },
          "yaxis": {
           "automargin": true,
           "gridcolor": "white",
           "linecolor": "white",
           "ticks": "",
           "title": {
            "standoff": 15
           },
           "zerolinecolor": "white",
           "zerolinewidth": 2
          }
         }
        },
        "title": {
         "text": "Communication and Cooperation"
        }
       }
      },
      "image/png": "[encoded data removed]"
     },
     "metadata": {},
     "output_type": "display_data"
    }
   ],
   "source": [
    "columns = [\"onMyWayPings\", \"enemyMissingPings\", \"dangerPings\", \"visionClearedPings\", \"getBackPings\", \"allInPings\"]\n",
    "columns.append(columns[0])\n",
    "\n",
    "# allInPings\tassistMePings\tbaitPings\tbasicPings\tcommandPings\tdangerPings\tgetBackPings\n",
    "# holdPings\tneedVisionPings\tpushPings\tvisionClearedPings\tonMyWayPings\tenemyMissingPings\tenemyVisionPings\n",
    "\n",
    "def calculate_means(df, columns):\n",
    "    df = df[df[\"gameDuration\"] > 0]\n",
    "    return df[columns].mean()\n",
    "\n",
    "# Load the dataframes and calculate the mean values for each\n",
    "chemin_data_1 = chemin_scouting + \"/datas/matches/equipes/GW/lol_df_zrh2.pkl\"\n",
    "data_lol_1 = pd.read_pickle(chemin_data_1)\n",
    "summoner_name_1 = data_lol_1[\"summonerName\"][0]\n",
    "data_1 = calculate_means(data_lol_1, columns)\n",
    "first_row = data_1.iloc[[0]]\n",
    "data_1 = pd.concat([data_1, first_row], ignore_index=True)\n",
    "\n",
    "chemin_data_2 = chemin_scouting + \"/datas/matches/equipes/GW/lol_df_Badlulu00.pkl\"\n",
    "data_lol_2 = pd.read_pickle(chemin_data_2)\n",
    "summoner_name_2 = data_lol_2[\"summonerName\"][0]\n",
    "data_2 = calculate_means(data_lol_2, columns)\n",
    "first_row = data_2.iloc[[0]]\n",
    "data_2 = pd.concat([data_2, first_row], ignore_index=True)\n",
    "\n",
    "chemin_data_3 = chemin_scouting + \"/datas/matches/equipes/GW/lol_df_Practice.pkl\"\n",
    "data_lol_3 = pd.read_pickle(chemin_data_3)\n",
    "summoner_name_3 = data_lol_3[\"summonerName\"][0]\n",
    "data_3 = calculate_means(data_lol_3, columns)\n",
    "first_row = data_3.iloc[[0]]\n",
    "data_3 = pd.concat([data_3, first_row], ignore_index=True)\n",
    "\n",
    "chemin_data_4 = chemin_scouting + \"/datas/matches/equipes/GW/lol_df_GW Villager.pkl\"\n",
    "data_lol_4 = pd.read_pickle(chemin_data_4)\n",
    "summoner_name_4 = data_lol_4[\"summonerName\"][0]\n",
    "data_4 = calculate_means(data_lol_4, columns)\n",
    "first_row = data_4.iloc[[0]]\n",
    "data_4 = pd.concat([data_4, first_row], ignore_index=True)\n",
    "\n",
    "\n",
    "chemin_data_5 = chemin_scouting + \"/datas/matches/equipes/GW/lol_df_ayekasia.pkl\"\n",
    "data_lol_5 = pd.read_pickle(chemin_data_5)\n",
    "summoner_name_5 = data_lol_5[\"summonerName\"][0]\n",
    "data_5 = calculate_means(data_lol_5, columns)\n",
    "first_row = data_5.iloc[[0]]\n",
    "data_5 = pd.concat([data_5, first_row], ignore_index=True)\n",
    "\n",
    "fig = go.Figure(\n",
    "    data=[\n",
    "        go.Scatterpolar(r=data_1, theta=columns, name=summoner_name_1),\n",
    "        go.Scatterpolar(r=data_2, theta=columns, name=summoner_name_2),\n",
    "        go.Scatterpolar(r=data_3, theta=columns, name=summoner_name_3),\n",
    "        go.Scatterpolar(r=data_4, theta=columns, name=summoner_name_4),\n",
    "        go.Scatterpolar(r=data_5, theta=columns, name=summoner_name_5),\n",
    "        ],\n",
    "    layout=go.Layout(\n",
    "        title=go.layout.Title(text='Communication and Cooperation'),\n",
    "        showlegend=True\n",
    "    )\n",
    ")\n",
    "\n",
    "fig.show()"
   ]
  }
 ],
 "metadata": {
  "kernelspec": {
   "display_name": "Python 3 (ipykernel)",
   "language": "python",
   "name": "python3"
  },
  "language_info": {
   "codemirror_mode": {
    "name": "ipython",
    "version": 3
   },
   "file_extension": ".py",
   "mimetype": "text/x-python",
   "name": "python",
   "nbconvert_exporter": "python",
   "pygments_lexer": "ipython3",
   "version": "3.10.9"
  }
 },
 "nbformat": 4,
 "nbformat_minor": 4
}
