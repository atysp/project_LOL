{
 "cells": [
  {
   "cell_type": "markdown",
   "metadata": {},
   "source": [
    "# 12 Metrics"
   ]
  },
  {
   "cell_type": "markdown",
   "metadata": {},
   "source": [
    "(playerKills + playerAssists) / (ennemyTeamKills + playerKills + playerAssists)\n",
    "\n",
    "playerDeaths / ennemyTeamDeaths\n",
    "\n",
    "playerDamages / ennemyTeamDamages\n",
    "\n",
    "playerDamagesTanked / ennemyTeamDamages\n",
    "\n",
    "playerGolds / ennemyTeamGolds\n",
    "\n",
    "playerHeal / ennemyTeamDamages\n",
    "\n",
    "playerDamageMitigated / ennemyTeamDamages\n",
    "\n",
    "playerTotalCs / ennemyTeamGolds\n",
    "\n",
    "playerWardsPlaced / ennemyTeamWardPlaced\n",
    "\n",
    "playerWardsKilled / ennemyTeamWardPlaced\n",
    "\n",
    "playerXp / ennemyTeamTotalLvl\n",
    "\n",
    "playerTimeCCingOther / ennemyTeamDeaths"
   ]
  },
  {
   "cell_type": "code",
   "execution_count": 1,
   "metadata": {},
   "outputs": [],
   "source": [
    "import pandas as pd\n",
    "import numpy as np\n",
    "import plotly.graph_objects as go"
   ]
  },
  {
   "cell_type": "code",
   "execution_count": 2,
   "metadata": {},
   "outputs": [
    {
     "name": "stderr",
     "output_type": "stream",
     "text": [
      "/var/folders/j1/7qnbs1wj3p3_8x_mtqwtgtlh0000gn/T/ipykernel_8797/3937065420.py:8: SettingWithCopyWarning: \n",
      "A value is trying to be set on a copy of a slice from a DataFrame.\n",
      "Try using .loc[row_indexer,col_indexer] = value instead\n",
      "\n",
      "See the caveats in the documentation: https://pandas.pydata.org/pandas-docs/stable/user_guide/indexing.html#returning-a-view-versus-a-copy\n",
      "  data_lol_1[\"firstMetric\"] = (data_lol_1[\"kills\"] + data_lol_1[\"assists\"]) / (data_lol_1[\"ennemyTeamKills\"] + data_lol_1[\"kills\"] + data_lol_1[\"assists\"])\n",
      "/var/folders/j1/7qnbs1wj3p3_8x_mtqwtgtlh0000gn/T/ipykernel_8797/3937065420.py:10: SettingWithCopyWarning: \n",
      "A value is trying to be set on a copy of a slice from a DataFrame.\n",
      "Try using .loc[row_indexer,col_indexer] = value instead\n",
      "\n",
      "See the caveats in the documentation: https://pandas.pydata.org/pandas-docs/stable/user_guide/indexing.html#returning-a-view-versus-a-copy\n",
      "  data_lol_1[\"secondMetric\"] = data_lol_1[\"deaths\"] / data_lol_1[\"ennemyTeamDeaths\"]\n",
      "/var/folders/j1/7qnbs1wj3p3_8x_mtqwtgtlh0000gn/T/ipykernel_8797/3937065420.py:12: SettingWithCopyWarning: \n",
      "A value is trying to be set on a copy of a slice from a DataFrame.\n",
      "Try using .loc[row_indexer,col_indexer] = value instead\n",
      "\n",
      "See the caveats in the documentation: https://pandas.pydata.org/pandas-docs/stable/user_guide/indexing.html#returning-a-view-versus-a-copy\n",
      "  data_lol_1[\"thirdMetric\"] = data_lol_1[\"totalDamageDealtToChampions\"] / data_lol_1[\"ennemyTeamDamages\"]\n",
      "/var/folders/j1/7qnbs1wj3p3_8x_mtqwtgtlh0000gn/T/ipykernel_8797/3937065420.py:14: SettingWithCopyWarning: \n",
      "A value is trying to be set on a copy of a slice from a DataFrame.\n",
      "Try using .loc[row_indexer,col_indexer] = value instead\n",
      "\n",
      "See the caveats in the documentation: https://pandas.pydata.org/pandas-docs/stable/user_guide/indexing.html#returning-a-view-versus-a-copy\n",
      "  data_lol_1[\"fourthMetric\"] = data_lol_1[\"damageTakenOnTeamPercentage\"]\n",
      "/var/folders/j1/7qnbs1wj3p3_8x_mtqwtgtlh0000gn/T/ipykernel_8797/3937065420.py:16: SettingWithCopyWarning: \n",
      "A value is trying to be set on a copy of a slice from a DataFrame.\n",
      "Try using .loc[row_indexer,col_indexer] = value instead\n",
      "\n",
      "See the caveats in the documentation: https://pandas.pydata.org/pandas-docs/stable/user_guide/indexing.html#returning-a-view-versus-a-copy\n",
      "  data_lol_1[\"fifthMetric\"] = data_lol_1[\"goldPerMinute\"]* data_lol_1[\"gameDuration\"]/60 / data_lol_1[\"ennemyTeamGolds\"]\n",
      "/var/folders/j1/7qnbs1wj3p3_8x_mtqwtgtlh0000gn/T/ipykernel_8797/3937065420.py:18: SettingWithCopyWarning: \n",
      "A value is trying to be set on a copy of a slice from a DataFrame.\n",
      "Try using .loc[row_indexer,col_indexer] = value instead\n",
      "\n",
      "See the caveats in the documentation: https://pandas.pydata.org/pandas-docs/stable/user_guide/indexing.html#returning-a-view-versus-a-copy\n",
      "  data_lol_1[\"sixthMetric\"] = data_lol_1[\"totalHeal\"] / data_lol_1[\"ennemyTeamDamages\"]\n",
      "/var/folders/j1/7qnbs1wj3p3_8x_mtqwtgtlh0000gn/T/ipykernel_8797/3937065420.py:22: SettingWithCopyWarning: \n",
      "A value is trying to be set on a copy of a slice from a DataFrame.\n",
      "Try using .loc[row_indexer,col_indexer] = value instead\n",
      "\n",
      "See the caveats in the documentation: https://pandas.pydata.org/pandas-docs/stable/user_guide/indexing.html#returning-a-view-versus-a-copy\n",
      "  data_lol_1[\"eighthMetric\"] = (data_lol_1[\"neutralMinionsKilled\"] + data_lol_1[\"totalMinionsKilled\"]) / data_lol_1[\"ennemyTeamGolds\"] * 100\n",
      "/var/folders/j1/7qnbs1wj3p3_8x_mtqwtgtlh0000gn/T/ipykernel_8797/3937065420.py:24: SettingWithCopyWarning: \n",
      "A value is trying to be set on a copy of a slice from a DataFrame.\n",
      "Try using .loc[row_indexer,col_indexer] = value instead\n",
      "\n",
      "See the caveats in the documentation: https://pandas.pydata.org/pandas-docs/stable/user_guide/indexing.html#returning-a-view-versus-a-copy\n",
      "  data_lol_1[\"ninthMetric\"] = data_lol_1[\"wardsPlaced\"] / data_lol_1[\"ennemyTeamWardPlaced\"]\n",
      "/var/folders/j1/7qnbs1wj3p3_8x_mtqwtgtlh0000gn/T/ipykernel_8797/3937065420.py:26: SettingWithCopyWarning: \n",
      "A value is trying to be set on a copy of a slice from a DataFrame.\n",
      "Try using .loc[row_indexer,col_indexer] = value instead\n",
      "\n",
      "See the caveats in the documentation: https://pandas.pydata.org/pandas-docs/stable/user_guide/indexing.html#returning-a-view-versus-a-copy\n",
      "  data_lol_1[\"tenthMetric\"] = data_lol_1[\"wardTakedowns\"] / data_lol_1[\"ennemyTeamWardPlaced\"]\n",
      "/var/folders/j1/7qnbs1wj3p3_8x_mtqwtgtlh0000gn/T/ipykernel_8797/3937065420.py:28: SettingWithCopyWarning: \n",
      "A value is trying to be set on a copy of a slice from a DataFrame.\n",
      "Try using .loc[row_indexer,col_indexer] = value instead\n",
      "\n",
      "See the caveats in the documentation: https://pandas.pydata.org/pandas-docs/stable/user_guide/indexing.html#returning-a-view-versus-a-copy\n",
      "  data_lol_1[\"eleventhMetric\"] = data_lol_1[\"champExperience\"] / data_lol_1[\"ennemyTeamTotalLvl\"]\n",
      "/var/folders/j1/7qnbs1wj3p3_8x_mtqwtgtlh0000gn/T/ipykernel_8797/3937065420.py:30: SettingWithCopyWarning: \n",
      "A value is trying to be set on a copy of a slice from a DataFrame.\n",
      "Try using .loc[row_indexer,col_indexer] = value instead\n",
      "\n",
      "See the caveats in the documentation: https://pandas.pydata.org/pandas-docs/stable/user_guide/indexing.html#returning-a-view-versus-a-copy\n",
      "  data_lol_1[\"twelvthMetric\"] = data_lol_1[\"timeCCingOthers\"] / data_lol_1[\"ennemyTeamDeaths\"]\n",
      "/var/folders/j1/7qnbs1wj3p3_8x_mtqwtgtlh0000gn/T/ipykernel_8797/3937065420.py:8: SettingWithCopyWarning: \n",
      "A value is trying to be set on a copy of a slice from a DataFrame.\n",
      "Try using .loc[row_indexer,col_indexer] = value instead\n",
      "\n",
      "See the caveats in the documentation: https://pandas.pydata.org/pandas-docs/stable/user_guide/indexing.html#returning-a-view-versus-a-copy\n",
      "  data_lol_1[\"firstMetric\"] = (data_lol_1[\"kills\"] + data_lol_1[\"assists\"]) / (data_lol_1[\"ennemyTeamKills\"] + data_lol_1[\"kills\"] + data_lol_1[\"assists\"])\n",
      "/var/folders/j1/7qnbs1wj3p3_8x_mtqwtgtlh0000gn/T/ipykernel_8797/3937065420.py:10: SettingWithCopyWarning: \n",
      "A value is trying to be set on a copy of a slice from a DataFrame.\n",
      "Try using .loc[row_indexer,col_indexer] = value instead\n",
      "\n",
      "See the caveats in the documentation: https://pandas.pydata.org/pandas-docs/stable/user_guide/indexing.html#returning-a-view-versus-a-copy\n",
      "  data_lol_1[\"secondMetric\"] = data_lol_1[\"deaths\"] / data_lol_1[\"ennemyTeamDeaths\"]\n",
      "/var/folders/j1/7qnbs1wj3p3_8x_mtqwtgtlh0000gn/T/ipykernel_8797/3937065420.py:12: SettingWithCopyWarning: \n",
      "A value is trying to be set on a copy of a slice from a DataFrame.\n",
      "Try using .loc[row_indexer,col_indexer] = value instead\n",
      "\n",
      "See the caveats in the documentation: https://pandas.pydata.org/pandas-docs/stable/user_guide/indexing.html#returning-a-view-versus-a-copy\n",
      "  data_lol_1[\"thirdMetric\"] = data_lol_1[\"totalDamageDealtToChampions\"] / data_lol_1[\"ennemyTeamDamages\"]\n",
      "/var/folders/j1/7qnbs1wj3p3_8x_mtqwtgtlh0000gn/T/ipykernel_8797/3937065420.py:14: SettingWithCopyWarning: \n",
      "A value is trying to be set on a copy of a slice from a DataFrame.\n",
      "Try using .loc[row_indexer,col_indexer] = value instead\n",
      "\n",
      "See the caveats in the documentation: https://pandas.pydata.org/pandas-docs/stable/user_guide/indexing.html#returning-a-view-versus-a-copy\n",
      "  data_lol_1[\"fourthMetric\"] = data_lol_1[\"damageTakenOnTeamPercentage\"]\n",
      "/var/folders/j1/7qnbs1wj3p3_8x_mtqwtgtlh0000gn/T/ipykernel_8797/3937065420.py:16: SettingWithCopyWarning: \n",
      "A value is trying to be set on a copy of a slice from a DataFrame.\n",
      "Try using .loc[row_indexer,col_indexer] = value instead\n",
      "\n",
      "See the caveats in the documentation: https://pandas.pydata.org/pandas-docs/stable/user_guide/indexing.html#returning-a-view-versus-a-copy\n",
      "  data_lol_1[\"fifthMetric\"] = data_lol_1[\"goldPerMinute\"]* data_lol_1[\"gameDuration\"]/60 / data_lol_1[\"ennemyTeamGolds\"]\n",
      "/var/folders/j1/7qnbs1wj3p3_8x_mtqwtgtlh0000gn/T/ipykernel_8797/3937065420.py:18: SettingWithCopyWarning: \n",
      "A value is trying to be set on a copy of a slice from a DataFrame.\n",
      "Try using .loc[row_indexer,col_indexer] = value instead\n",
      "\n",
      "See the caveats in the documentation: https://pandas.pydata.org/pandas-docs/stable/user_guide/indexing.html#returning-a-view-versus-a-copy\n",
      "  data_lol_1[\"sixthMetric\"] = data_lol_1[\"totalHeal\"] / data_lol_1[\"ennemyTeamDamages\"]\n",
      "/var/folders/j1/7qnbs1wj3p3_8x_mtqwtgtlh0000gn/T/ipykernel_8797/3937065420.py:22: SettingWithCopyWarning: \n",
      "A value is trying to be set on a copy of a slice from a DataFrame.\n",
      "Try using .loc[row_indexer,col_indexer] = value instead\n",
      "\n",
      "See the caveats in the documentation: https://pandas.pydata.org/pandas-docs/stable/user_guide/indexing.html#returning-a-view-versus-a-copy\n",
      "  data_lol_1[\"eighthMetric\"] = (data_lol_1[\"neutralMinionsKilled\"] + data_lol_1[\"totalMinionsKilled\"]) / data_lol_1[\"ennemyTeamGolds\"] * 100\n",
      "/var/folders/j1/7qnbs1wj3p3_8x_mtqwtgtlh0000gn/T/ipykernel_8797/3937065420.py:24: SettingWithCopyWarning: \n",
      "A value is trying to be set on a copy of a slice from a DataFrame.\n",
      "Try using .loc[row_indexer,col_indexer] = value instead\n",
      "\n",
      "See the caveats in the documentation: https://pandas.pydata.org/pandas-docs/stable/user_guide/indexing.html#returning-a-view-versus-a-copy\n",
      "  data_lol_1[\"ninthMetric\"] = data_lol_1[\"wardsPlaced\"] / data_lol_1[\"ennemyTeamWardPlaced\"]\n",
      "/var/folders/j1/7qnbs1wj3p3_8x_mtqwtgtlh0000gn/T/ipykernel_8797/3937065420.py:26: SettingWithCopyWarning: \n",
      "A value is trying to be set on a copy of a slice from a DataFrame.\n",
      "Try using .loc[row_indexer,col_indexer] = value instead\n",
      "\n",
      "See the caveats in the documentation: https://pandas.pydata.org/pandas-docs/stable/user_guide/indexing.html#returning-a-view-versus-a-copy\n",
      "  data_lol_1[\"tenthMetric\"] = data_lol_1[\"wardTakedowns\"] / data_lol_1[\"ennemyTeamWardPlaced\"]\n",
      "/var/folders/j1/7qnbs1wj3p3_8x_mtqwtgtlh0000gn/T/ipykernel_8797/3937065420.py:28: SettingWithCopyWarning: \n",
      "A value is trying to be set on a copy of a slice from a DataFrame.\n",
      "Try using .loc[row_indexer,col_indexer] = value instead\n",
      "\n",
      "See the caveats in the documentation: https://pandas.pydata.org/pandas-docs/stable/user_guide/indexing.html#returning-a-view-versus-a-copy\n",
      "  data_lol_1[\"eleventhMetric\"] = data_lol_1[\"champExperience\"] / data_lol_1[\"ennemyTeamTotalLvl\"]\n",
      "/var/folders/j1/7qnbs1wj3p3_8x_mtqwtgtlh0000gn/T/ipykernel_8797/3937065420.py:30: SettingWithCopyWarning: \n",
      "A value is trying to be set on a copy of a slice from a DataFrame.\n",
      "Try using .loc[row_indexer,col_indexer] = value instead\n",
      "\n",
      "See the caveats in the documentation: https://pandas.pydata.org/pandas-docs/stable/user_guide/indexing.html#returning-a-view-versus-a-copy\n",
      "  data_lol_1[\"twelvthMetric\"] = data_lol_1[\"timeCCingOthers\"] / data_lol_1[\"ennemyTeamDeaths\"]\n",
      "/var/folders/j1/7qnbs1wj3p3_8x_mtqwtgtlh0000gn/T/ipykernel_8797/3937065420.py:8: SettingWithCopyWarning: \n",
      "A value is trying to be set on a copy of a slice from a DataFrame.\n",
      "Try using .loc[row_indexer,col_indexer] = value instead\n",
      "\n",
      "See the caveats in the documentation: https://pandas.pydata.org/pandas-docs/stable/user_guide/indexing.html#returning-a-view-versus-a-copy\n",
      "  data_lol_1[\"firstMetric\"] = (data_lol_1[\"kills\"] + data_lol_1[\"assists\"]) / (data_lol_1[\"ennemyTeamKills\"] + data_lol_1[\"kills\"] + data_lol_1[\"assists\"])\n",
      "/var/folders/j1/7qnbs1wj3p3_8x_mtqwtgtlh0000gn/T/ipykernel_8797/3937065420.py:10: SettingWithCopyWarning: \n",
      "A value is trying to be set on a copy of a slice from a DataFrame.\n",
      "Try using .loc[row_indexer,col_indexer] = value instead\n",
      "\n",
      "See the caveats in the documentation: https://pandas.pydata.org/pandas-docs/stable/user_guide/indexing.html#returning-a-view-versus-a-copy\n",
      "  data_lol_1[\"secondMetric\"] = data_lol_1[\"deaths\"] / data_lol_1[\"ennemyTeamDeaths\"]\n",
      "/var/folders/j1/7qnbs1wj3p3_8x_mtqwtgtlh0000gn/T/ipykernel_8797/3937065420.py:12: SettingWithCopyWarning: \n",
      "A value is trying to be set on a copy of a slice from a DataFrame.\n",
      "Try using .loc[row_indexer,col_indexer] = value instead\n",
      "\n",
      "See the caveats in the documentation: https://pandas.pydata.org/pandas-docs/stable/user_guide/indexing.html#returning-a-view-versus-a-copy\n",
      "  data_lol_1[\"thirdMetric\"] = data_lol_1[\"totalDamageDealtToChampions\"] / data_lol_1[\"ennemyTeamDamages\"]\n",
      "/var/folders/j1/7qnbs1wj3p3_8x_mtqwtgtlh0000gn/T/ipykernel_8797/3937065420.py:14: SettingWithCopyWarning: \n",
      "A value is trying to be set on a copy of a slice from a DataFrame.\n",
      "Try using .loc[row_indexer,col_indexer] = value instead\n",
      "\n",
      "See the caveats in the documentation: https://pandas.pydata.org/pandas-docs/stable/user_guide/indexing.html#returning-a-view-versus-a-copy\n",
      "  data_lol_1[\"fourthMetric\"] = data_lol_1[\"damageTakenOnTeamPercentage\"]\n",
      "/var/folders/j1/7qnbs1wj3p3_8x_mtqwtgtlh0000gn/T/ipykernel_8797/3937065420.py:16: SettingWithCopyWarning: \n",
      "A value is trying to be set on a copy of a slice from a DataFrame.\n",
      "Try using .loc[row_indexer,col_indexer] = value instead\n",
      "\n",
      "See the caveats in the documentation: https://pandas.pydata.org/pandas-docs/stable/user_guide/indexing.html#returning-a-view-versus-a-copy\n",
      "  data_lol_1[\"fifthMetric\"] = data_lol_1[\"goldPerMinute\"]* data_lol_1[\"gameDuration\"]/60 / data_lol_1[\"ennemyTeamGolds\"]\n",
      "/var/folders/j1/7qnbs1wj3p3_8x_mtqwtgtlh0000gn/T/ipykernel_8797/3937065420.py:18: SettingWithCopyWarning: \n",
      "A value is trying to be set on a copy of a slice from a DataFrame.\n",
      "Try using .loc[row_indexer,col_indexer] = value instead\n",
      "\n",
      "See the caveats in the documentation: https://pandas.pydata.org/pandas-docs/stable/user_guide/indexing.html#returning-a-view-versus-a-copy\n",
      "  data_lol_1[\"sixthMetric\"] = data_lol_1[\"totalHeal\"] / data_lol_1[\"ennemyTeamDamages\"]\n",
      "/var/folders/j1/7qnbs1wj3p3_8x_mtqwtgtlh0000gn/T/ipykernel_8797/3937065420.py:22: SettingWithCopyWarning: \n",
      "A value is trying to be set on a copy of a slice from a DataFrame.\n",
      "Try using .loc[row_indexer,col_indexer] = value instead\n",
      "\n",
      "See the caveats in the documentation: https://pandas.pydata.org/pandas-docs/stable/user_guide/indexing.html#returning-a-view-versus-a-copy\n",
      "  data_lol_1[\"eighthMetric\"] = (data_lol_1[\"neutralMinionsKilled\"] + data_lol_1[\"totalMinionsKilled\"]) / data_lol_1[\"ennemyTeamGolds\"] * 100\n",
      "/var/folders/j1/7qnbs1wj3p3_8x_mtqwtgtlh0000gn/T/ipykernel_8797/3937065420.py:24: SettingWithCopyWarning: \n",
      "A value is trying to be set on a copy of a slice from a DataFrame.\n",
      "Try using .loc[row_indexer,col_indexer] = value instead\n",
      "\n",
      "See the caveats in the documentation: https://pandas.pydata.org/pandas-docs/stable/user_guide/indexing.html#returning-a-view-versus-a-copy\n",
      "  data_lol_1[\"ninthMetric\"] = data_lol_1[\"wardsPlaced\"] / data_lol_1[\"ennemyTeamWardPlaced\"]\n",
      "/var/folders/j1/7qnbs1wj3p3_8x_mtqwtgtlh0000gn/T/ipykernel_8797/3937065420.py:26: SettingWithCopyWarning: \n",
      "A value is trying to be set on a copy of a slice from a DataFrame.\n",
      "Try using .loc[row_indexer,col_indexer] = value instead\n",
      "\n",
      "See the caveats in the documentation: https://pandas.pydata.org/pandas-docs/stable/user_guide/indexing.html#returning-a-view-versus-a-copy\n",
      "  data_lol_1[\"tenthMetric\"] = data_lol_1[\"wardTakedowns\"] / data_lol_1[\"ennemyTeamWardPlaced\"]\n",
      "/var/folders/j1/7qnbs1wj3p3_8x_mtqwtgtlh0000gn/T/ipykernel_8797/3937065420.py:28: SettingWithCopyWarning: \n",
      "A value is trying to be set on a copy of a slice from a DataFrame.\n",
      "Try using .loc[row_indexer,col_indexer] = value instead\n",
      "\n",
      "See the caveats in the documentation: https://pandas.pydata.org/pandas-docs/stable/user_guide/indexing.html#returning-a-view-versus-a-copy\n",
      "  data_lol_1[\"eleventhMetric\"] = data_lol_1[\"champExperience\"] / data_lol_1[\"ennemyTeamTotalLvl\"]\n",
      "/var/folders/j1/7qnbs1wj3p3_8x_mtqwtgtlh0000gn/T/ipykernel_8797/3937065420.py:30: SettingWithCopyWarning: \n",
      "A value is trying to be set on a copy of a slice from a DataFrame.\n",
      "Try using .loc[row_indexer,col_indexer] = value instead\n",
      "\n",
      "See the caveats in the documentation: https://pandas.pydata.org/pandas-docs/stable/user_guide/indexing.html#returning-a-view-versus-a-copy\n",
      "  data_lol_1[\"twelvthMetric\"] = data_lol_1[\"timeCCingOthers\"] / data_lol_1[\"ennemyTeamDeaths\"]\n",
      "/var/folders/j1/7qnbs1wj3p3_8x_mtqwtgtlh0000gn/T/ipykernel_8797/3937065420.py:8: SettingWithCopyWarning: \n",
      "A value is trying to be set on a copy of a slice from a DataFrame.\n",
      "Try using .loc[row_indexer,col_indexer] = value instead\n",
      "\n",
      "See the caveats in the documentation: https://pandas.pydata.org/pandas-docs/stable/user_guide/indexing.html#returning-a-view-versus-a-copy\n",
      "  data_lol_1[\"firstMetric\"] = (data_lol_1[\"kills\"] + data_lol_1[\"assists\"]) / (data_lol_1[\"ennemyTeamKills\"] + data_lol_1[\"kills\"] + data_lol_1[\"assists\"])\n",
      "/var/folders/j1/7qnbs1wj3p3_8x_mtqwtgtlh0000gn/T/ipykernel_8797/3937065420.py:10: SettingWithCopyWarning: \n",
      "A value is trying to be set on a copy of a slice from a DataFrame.\n",
      "Try using .loc[row_indexer,col_indexer] = value instead\n",
      "\n",
      "See the caveats in the documentation: https://pandas.pydata.org/pandas-docs/stable/user_guide/indexing.html#returning-a-view-versus-a-copy\n",
      "  data_lol_1[\"secondMetric\"] = data_lol_1[\"deaths\"] / data_lol_1[\"ennemyTeamDeaths\"]\n",
      "/var/folders/j1/7qnbs1wj3p3_8x_mtqwtgtlh0000gn/T/ipykernel_8797/3937065420.py:12: SettingWithCopyWarning: \n",
      "A value is trying to be set on a copy of a slice from a DataFrame.\n",
      "Try using .loc[row_indexer,col_indexer] = value instead\n",
      "\n",
      "See the caveats in the documentation: https://pandas.pydata.org/pandas-docs/stable/user_guide/indexing.html#returning-a-view-versus-a-copy\n",
      "  data_lol_1[\"thirdMetric\"] = data_lol_1[\"totalDamageDealtToChampions\"] / data_lol_1[\"ennemyTeamDamages\"]\n",
      "/var/folders/j1/7qnbs1wj3p3_8x_mtqwtgtlh0000gn/T/ipykernel_8797/3937065420.py:14: SettingWithCopyWarning: \n",
      "A value is trying to be set on a copy of a slice from a DataFrame.\n",
      "Try using .loc[row_indexer,col_indexer] = value instead\n",
      "\n",
      "See the caveats in the documentation: https://pandas.pydata.org/pandas-docs/stable/user_guide/indexing.html#returning-a-view-versus-a-copy\n",
      "  data_lol_1[\"fourthMetric\"] = data_lol_1[\"damageTakenOnTeamPercentage\"]\n",
      "/var/folders/j1/7qnbs1wj3p3_8x_mtqwtgtlh0000gn/T/ipykernel_8797/3937065420.py:16: SettingWithCopyWarning: \n",
      "A value is trying to be set on a copy of a slice from a DataFrame.\n",
      "Try using .loc[row_indexer,col_indexer] = value instead\n",
      "\n",
      "See the caveats in the documentation: https://pandas.pydata.org/pandas-docs/stable/user_guide/indexing.html#returning-a-view-versus-a-copy\n",
      "  data_lol_1[\"fifthMetric\"] = data_lol_1[\"goldPerMinute\"]* data_lol_1[\"gameDuration\"]/60 / data_lol_1[\"ennemyTeamGolds\"]\n",
      "/var/folders/j1/7qnbs1wj3p3_8x_mtqwtgtlh0000gn/T/ipykernel_8797/3937065420.py:18: SettingWithCopyWarning: \n",
      "A value is trying to be set on a copy of a slice from a DataFrame.\n",
      "Try using .loc[row_indexer,col_indexer] = value instead\n",
      "\n",
      "See the caveats in the documentation: https://pandas.pydata.org/pandas-docs/stable/user_guide/indexing.html#returning-a-view-versus-a-copy\n",
      "  data_lol_1[\"sixthMetric\"] = data_lol_1[\"totalHeal\"] / data_lol_1[\"ennemyTeamDamages\"]\n",
      "/var/folders/j1/7qnbs1wj3p3_8x_mtqwtgtlh0000gn/T/ipykernel_8797/3937065420.py:22: SettingWithCopyWarning: \n",
      "A value is trying to be set on a copy of a slice from a DataFrame.\n",
      "Try using .loc[row_indexer,col_indexer] = value instead\n",
      "\n",
      "See the caveats in the documentation: https://pandas.pydata.org/pandas-docs/stable/user_guide/indexing.html#returning-a-view-versus-a-copy\n",
      "  data_lol_1[\"eighthMetric\"] = (data_lol_1[\"neutralMinionsKilled\"] + data_lol_1[\"totalMinionsKilled\"]) / data_lol_1[\"ennemyTeamGolds\"] * 100\n",
      "/var/folders/j1/7qnbs1wj3p3_8x_mtqwtgtlh0000gn/T/ipykernel_8797/3937065420.py:24: SettingWithCopyWarning: \n",
      "A value is trying to be set on a copy of a slice from a DataFrame.\n",
      "Try using .loc[row_indexer,col_indexer] = value instead\n",
      "\n",
      "See the caveats in the documentation: https://pandas.pydata.org/pandas-docs/stable/user_guide/indexing.html#returning-a-view-versus-a-copy\n",
      "  data_lol_1[\"ninthMetric\"] = data_lol_1[\"wardsPlaced\"] / data_lol_1[\"ennemyTeamWardPlaced\"]\n",
      "/var/folders/j1/7qnbs1wj3p3_8x_mtqwtgtlh0000gn/T/ipykernel_8797/3937065420.py:26: SettingWithCopyWarning: \n",
      "A value is trying to be set on a copy of a slice from a DataFrame.\n",
      "Try using .loc[row_indexer,col_indexer] = value instead\n",
      "\n",
      "See the caveats in the documentation: https://pandas.pydata.org/pandas-docs/stable/user_guide/indexing.html#returning-a-view-versus-a-copy\n",
      "  data_lol_1[\"tenthMetric\"] = data_lol_1[\"wardTakedowns\"] / data_lol_1[\"ennemyTeamWardPlaced\"]\n",
      "/var/folders/j1/7qnbs1wj3p3_8x_mtqwtgtlh0000gn/T/ipykernel_8797/3937065420.py:28: SettingWithCopyWarning: \n",
      "A value is trying to be set on a copy of a slice from a DataFrame.\n",
      "Try using .loc[row_indexer,col_indexer] = value instead\n",
      "\n",
      "See the caveats in the documentation: https://pandas.pydata.org/pandas-docs/stable/user_guide/indexing.html#returning-a-view-versus-a-copy\n",
      "  data_lol_1[\"eleventhMetric\"] = data_lol_1[\"champExperience\"] / data_lol_1[\"ennemyTeamTotalLvl\"]\n",
      "/var/folders/j1/7qnbs1wj3p3_8x_mtqwtgtlh0000gn/T/ipykernel_8797/3937065420.py:30: SettingWithCopyWarning: \n",
      "A value is trying to be set on a copy of a slice from a DataFrame.\n",
      "Try using .loc[row_indexer,col_indexer] = value instead\n",
      "\n",
      "See the caveats in the documentation: https://pandas.pydata.org/pandas-docs/stable/user_guide/indexing.html#returning-a-view-versus-a-copy\n",
      "  data_lol_1[\"twelvthMetric\"] = data_lol_1[\"timeCCingOthers\"] / data_lol_1[\"ennemyTeamDeaths\"]\n"
     ]
    },
    {
     "data": {
      "application/vnd.plotly.v1+json": {
       "config": {
        "plotlyServerURL": "https://plot.ly"
       },
       "data": [
        {
         "name": "Badlulu00",
         "r": [
          0.30499881400943296,
          0.2170499920562604,
          0.25813695879336507,
          0.25873399417330256,
          0.23181488520571683,
          0.09856602047504019,
          0.41430991677449175,
          0.18820151252310782,
          0.036793453331854034,
          0.8149439805487838,
          0.30499881400943296
         ],
         "theta": [
          "firstMetric",
          "secondMetric",
          "thirdMetric",
          "fourthMetric",
          "fifthMetric",
          "sixthMetric",
          "eighthMetric",
          "ninthMetric",
          "tenthMetric",
          "twelvthMetric",
          "firstMetric"
         ],
         "type": "scatterpolar"
        },
        {
         "name": "GW Villager",
         "r": [
          0.40972476060476937,
          0.1965637945483597,
          0.27364848770676686,
          0.26770171715469354,
          0.23869990669150962,
          0.198943749145132,
          0.3308750005832188,
          0.13802517781777368,
          0.06316146752872093,
          0.8165226184365442,
          0.40972476060476937
         ],
         "theta": [
          "firstMetric",
          "secondMetric",
          "thirdMetric",
          "fourthMetric",
          "fifthMetric",
          "sixthMetric",
          "eighthMetric",
          "ninthMetric",
          "tenthMetric",
          "twelvthMetric",
          "firstMetric"
         ],
         "type": "scatterpolar"
        },
        {
         "name": "ayekasia",
         "r": [
          0.3631130216147149,
          0.18624363097687952,
          0.07491693966690527,
          0.15338953797436436,
          0.13534226772466415,
          0.052930868329624806,
          0.060695856864342486,
          0.5528603617275145,
          0.10958900287642151,
          1.6605280789226984,
          0.3631130216147149
         ],
         "theta": [
          "firstMetric",
          "secondMetric",
          "thirdMetric",
          "fourthMetric",
          "fifthMetric",
          "sixthMetric",
          "eighthMetric",
          "ninthMetric",
          "tenthMetric",
          "twelvthMetric",
          "firstMetric"
         ],
         "type": "scatterpolar"
        },
        {
         "name": "Practice",
         "r": [
          0.3820675125454354,
          0.18484073241466265,
          0.29189557293322854,
          0.15048139953458517,
          0.2400261797890204,
          0.06311507464518888,
          0.37469961929148377,
          0.15723284333873633,
          0.06450558252478529,
          0.6505556849601901,
          0.3820675125454354
         ],
         "theta": [
          "firstMetric",
          "secondMetric",
          "thirdMetric",
          "fourthMetric",
          "fifthMetric",
          "sixthMetric",
          "eighthMetric",
          "ninthMetric",
          "tenthMetric",
          "twelvthMetric",
          "firstMetric"
         ],
         "type": "scatterpolar"
        },
        {
         "name": "zrh2",
         "r": [
          0.31453610153709677,
          0.23482284520367158,
          0.28534017111934173,
          0.19905510645709476,
          0.22635102837467005,
          0.05280190280176892,
          0.3859534022625561,
          0.16301720732004335,
          0.046478355518076324,
          0.8470652132422813,
          0.31453610153709677
         ],
         "theta": [
          "firstMetric",
          "secondMetric",
          "thirdMetric",
          "fourthMetric",
          "fifthMetric",
          "sixthMetric",
          "eighthMetric",
          "ninthMetric",
          "tenthMetric",
          "twelvthMetric",
          "firstMetric"
         ],
         "type": "scatterpolar"
        }
       ],
       "layout": {
        "showlegend": true,
        "template": {
         "data": {
          "bar": [
           {
            "error_x": {
             "color": "#2a3f5f"
            },
            "error_y": {
             "color": "#2a3f5f"
            },
            "marker": {
             "line": {
              "color": "#E5ECF6",
              "width": 0.5
             },
             "pattern": {
              "fillmode": "overlay",
              "size": 10,
              "solidity": 0.2
             }
            },
            "type": "bar"
           }
          ],
          "barpolar": [
           {
            "marker": {
             "line": {
              "color": "#E5ECF6",
              "width": 0.5
             },
             "pattern": {
              "fillmode": "overlay",
              "size": 10,
              "solidity": 0.2
             }
            },
            "type": "barpolar"
           }
          ],
          "carpet": [
           {
            "aaxis": {
             "endlinecolor": "#2a3f5f",
             "gridcolor": "white",
             "linecolor": "white",
             "minorgridcolor": "white",
             "startlinecolor": "#2a3f5f"
            },
            "baxis": {
             "endlinecolor": "#2a3f5f",
             "gridcolor": "white",
             "linecolor": "white",
             "minorgridcolor": "white",
             "startlinecolor": "#2a3f5f"
            },
            "type": "carpet"
           }
          ],
          "choropleth": [
           {
            "colorbar": {
             "outlinewidth": 0,
             "ticks": ""
            },
            "type": "choropleth"
           }
          ],
          "contour": [
           {
            "colorbar": {
             "outlinewidth": 0,
             "ticks": ""
            },
            "colorscale": [
             [
              0,
              "#0d0887"
             ],
             [
              0.1111111111111111,
              "#46039f"
             ],
             [
              0.2222222222222222,
              "#7201a8"
             ],
             [
              0.3333333333333333,
              "#9c179e"
             ],
             [
              0.4444444444444444,
              "#bd3786"
             ],
             [
              0.5555555555555556,
              "#d8576b"
             ],
             [
              0.6666666666666666,
              "#ed7953"
             ],
             [
              0.7777777777777778,
              "#fb9f3a"
             ],
             [
              0.8888888888888888,
              "#fdca26"
             ],
             [
              1,
              "#f0f921"
             ]
            ],
            "type": "contour"
           }
          ],
          "contourcarpet": [
           {
            "colorbar": {
             "outlinewidth": 0,
             "ticks": ""
            },
            "type": "contourcarpet"
           }
          ],
          "heatmap": [
           {
            "colorbar": {
             "outlinewidth": 0,
             "ticks": ""
            },
            "colorscale": [
             [
              0,
              "#0d0887"
             ],
             [
              0.1111111111111111,
              "#46039f"
             ],
             [
              0.2222222222222222,
              "#7201a8"
             ],
             [
              0.3333333333333333,
              "#9c179e"
             ],
             [
              0.4444444444444444,
              "#bd3786"
             ],
             [
              0.5555555555555556,
              "#d8576b"
             ],
             [
              0.6666666666666666,
              "#ed7953"
             ],
             [
              0.7777777777777778,
              "#fb9f3a"
             ],
             [
              0.8888888888888888,
              "#fdca26"
             ],
             [
              1,
              "#f0f921"
             ]
            ],
            "type": "heatmap"
           }
          ],
          "heatmapgl": [
           {
            "colorbar": {
             "outlinewidth": 0,
             "ticks": ""
            },
            "colorscale": [
             [
              0,
              "#0d0887"
             ],
             [
              0.1111111111111111,
              "#46039f"
             ],
             [
              0.2222222222222222,
              "#7201a8"
             ],
             [
              0.3333333333333333,
              "#9c179e"
             ],
             [
              0.4444444444444444,
              "#bd3786"
             ],
             [
              0.5555555555555556,
              "#d8576b"
             ],
             [
              0.6666666666666666,
              "#ed7953"
             ],
             [
              0.7777777777777778,
              "#fb9f3a"
             ],
             [
              0.8888888888888888,
              "#fdca26"
             ],
             [
              1,
              "#f0f921"
             ]
            ],
            "type": "heatmapgl"
           }
          ],
          "histogram": [
           {
            "marker": {
             "pattern": {
              "fillmode": "overlay",
              "size": 10,
              "solidity": 0.2
             }
            },
            "type": "histogram"
           }
          ],
          "histogram2d": [
           {
            "colorbar": {
             "outlinewidth": 0,
             "ticks": ""
            },
            "colorscale": [
             [
              0,
              "#0d0887"
             ],
             [
              0.1111111111111111,
              "#46039f"
             ],
             [
              0.2222222222222222,
              "#7201a8"
             ],
             [
              0.3333333333333333,
              "#9c179e"
             ],
             [
              0.4444444444444444,
              "#bd3786"
             ],
             [
              0.5555555555555556,
              "#d8576b"
             ],
             [
              0.6666666666666666,
              "#ed7953"
             ],
             [
              0.7777777777777778,
              "#fb9f3a"
             ],
             [
              0.8888888888888888,
              "#fdca26"
             ],
             [
              1,
              "#f0f921"
             ]
            ],
            "type": "histogram2d"
           }
          ],
          "histogram2dcontour": [
           {
            "colorbar": {
             "outlinewidth": 0,
             "ticks": ""
            },
            "colorscale": [
             [
              0,
              "#0d0887"
             ],
             [
              0.1111111111111111,
              "#46039f"
             ],
             [
              0.2222222222222222,
              "#7201a8"
             ],
             [
              0.3333333333333333,
              "#9c179e"
             ],
             [
              0.4444444444444444,
              "#bd3786"
             ],
             [
              0.5555555555555556,
              "#d8576b"
             ],
             [
              0.6666666666666666,
              "#ed7953"
             ],
             [
              0.7777777777777778,
              "#fb9f3a"
             ],
             [
              0.8888888888888888,
              "#fdca26"
             ],
             [
              1,
              "#f0f921"
             ]
            ],
            "type": "histogram2dcontour"
           }
          ],
          "mesh3d": [
           {
            "colorbar": {
             "outlinewidth": 0,
             "ticks": ""
            },
            "type": "mesh3d"
           }
          ],
          "parcoords": [
           {
            "line": {
             "colorbar": {
              "outlinewidth": 0,
              "ticks": ""
             }
            },
            "type": "parcoords"
           }
          ],
          "pie": [
           {
            "automargin": true,
            "type": "pie"
           }
          ],
          "scatter": [
           {
            "fillpattern": {
             "fillmode": "overlay",
             "size": 10,
             "solidity": 0.2
            },
            "type": "scatter"
           }
          ],
          "scatter3d": [
           {
            "line": {
             "colorbar": {
              "outlinewidth": 0,
              "ticks": ""
             }
            },
            "marker": {
             "colorbar": {
              "outlinewidth": 0,
              "ticks": ""
             }
            },
            "type": "scatter3d"
           }
          ],
          "scattercarpet": [
           {
            "marker": {
             "colorbar": {
              "outlinewidth": 0,
              "ticks": ""
             }
            },
            "type": "scattercarpet"
           }
          ],
          "scattergeo": [
           {
            "marker": {
             "colorbar": {
              "outlinewidth": 0,
              "ticks": ""
             }
            },
            "type": "scattergeo"
           }
          ],
          "scattergl": [
           {
            "marker": {
             "colorbar": {
              "outlinewidth": 0,
              "ticks": ""
             }
            },
            "type": "scattergl"
           }
          ],
          "scattermapbox": [
           {
            "marker": {
             "colorbar": {
              "outlinewidth": 0,
              "ticks": ""
             }
            },
            "type": "scattermapbox"
           }
          ],
          "scatterpolar": [
           {
            "marker": {
             "colorbar": {
              "outlinewidth": 0,
              "ticks": ""
             }
            },
            "type": "scatterpolar"
           }
          ],
          "scatterpolargl": [
           {
            "marker": {
             "colorbar": {
              "outlinewidth": 0,
              "ticks": ""
             }
            },
            "type": "scatterpolargl"
           }
          ],
          "scatterternary": [
           {
            "marker": {
             "colorbar": {
              "outlinewidth": 0,
              "ticks": ""
             }
            },
            "type": "scatterternary"
           }
          ],
          "surface": [
           {
            "colorbar": {
             "outlinewidth": 0,
             "ticks": ""
            },
            "colorscale": [
             [
              0,
              "#0d0887"
             ],
             [
              0.1111111111111111,
              "#46039f"
             ],
             [
              0.2222222222222222,
              "#7201a8"
             ],
             [
              0.3333333333333333,
              "#9c179e"
             ],
             [
              0.4444444444444444,
              "#bd3786"
             ],
             [
              0.5555555555555556,
              "#d8576b"
             ],
             [
              0.6666666666666666,
              "#ed7953"
             ],
             [
              0.7777777777777778,
              "#fb9f3a"
             ],
             [
              0.8888888888888888,
              "#fdca26"
             ],
             [
              1,
              "#f0f921"
             ]
            ],
            "type": "surface"
           }
          ],
          "table": [
           {
            "cells": {
             "fill": {
              "color": "#EBF0F8"
             },
             "line": {
              "color": "white"
             }
            },
            "header": {
             "fill": {
              "color": "#C8D4E3"
             },
             "line": {
              "color": "white"
             }
            },
            "type": "table"
           }
          ]
         },
         "layout": {
          "annotationdefaults": {
           "arrowcolor": "#2a3f5f",
           "arrowhead": 0,
           "arrowwidth": 1
          },
          "autotypenumbers": "strict",
          "coloraxis": {
           "colorbar": {
            "outlinewidth": 0,
            "ticks": ""
           }
          },
          "colorscale": {
           "diverging": [
            [
             0,
             "#8e0152"
            ],
            [
             0.1,
             "#c51b7d"
            ],
            [
             0.2,
             "#de77ae"
            ],
            [
             0.3,
             "#f1b6da"
            ],
            [
             0.4,
             "#fde0ef"
            ],
            [
             0.5,
             "#f7f7f7"
            ],
            [
             0.6,
             "#e6f5d0"
            ],
            [
             0.7,
             "#b8e186"
            ],
            [
             0.8,
             "#7fbc41"
            ],
            [
             0.9,
             "#4d9221"
            ],
            [
             1,
             "#276419"
            ]
           ],
           "sequential": [
            [
             0,
             "#0d0887"
            ],
            [
             0.1111111111111111,
             "#46039f"
            ],
            [
             0.2222222222222222,
             "#7201a8"
            ],
            [
             0.3333333333333333,
             "#9c179e"
            ],
            [
             0.4444444444444444,
             "#bd3786"
            ],
            [
             0.5555555555555556,
             "#d8576b"
            ],
            [
             0.6666666666666666,
             "#ed7953"
            ],
            [
             0.7777777777777778,
             "#fb9f3a"
            ],
            [
             0.8888888888888888,
             "#fdca26"
            ],
            [
             1,
             "#f0f921"
            ]
           ],
           "sequentialminus": [
            [
             0,
             "#0d0887"
            ],
            [
             0.1111111111111111,
             "#46039f"
            ],
            [
             0.2222222222222222,
             "#7201a8"
            ],
            [
             0.3333333333333333,
             "#9c179e"
            ],
            [
             0.4444444444444444,
             "#bd3786"
            ],
            [
             0.5555555555555556,
             "#d8576b"
            ],
            [
             0.6666666666666666,
             "#ed7953"
            ],
            [
             0.7777777777777778,
             "#fb9f3a"
            ],
            [
             0.8888888888888888,
             "#fdca26"
            ],
            [
             1,
             "#f0f921"
            ]
           ]
          },
          "colorway": [
           "#636efa",
           "#EF553B",
           "#00cc96",
           "#ab63fa",
           "#FFA15A",
           "#19d3f3",
           "#FF6692",
           "#B6E880",
           "#FF97FF",
           "#FECB52"
          ],
          "font": {
           "color": "#2a3f5f"
          },
          "geo": {
           "bgcolor": "white",
           "lakecolor": "white",
           "landcolor": "#E5ECF6",
           "showlakes": true,
           "showland": true,
           "subunitcolor": "white"
          },
          "hoverlabel": {
           "align": "left"
          },
          "hovermode": "closest",
          "mapbox": {
           "style": "light"
          },
          "paper_bgcolor": "white",
          "plot_bgcolor": "#E5ECF6",
          "polar": {
           "angularaxis": {
            "gridcolor": "white",
            "linecolor": "white",
            "ticks": ""
           },
           "bgcolor": "#E5ECF6",
           "radialaxis": {
            "gridcolor": "white",
            "linecolor": "white",
            "ticks": ""
           }
          },
          "scene": {
           "xaxis": {
            "backgroundcolor": "#E5ECF6",
            "gridcolor": "white",
            "gridwidth": 2,
            "linecolor": "white",
            "showbackground": true,
            "ticks": "",
            "zerolinecolor": "white"
           },
           "yaxis": {
            "backgroundcolor": "#E5ECF6",
            "gridcolor": "white",
            "gridwidth": 2,
            "linecolor": "white",
            "showbackground": true,
            "ticks": "",
            "zerolinecolor": "white"
           },
           "zaxis": {
            "backgroundcolor": "#E5ECF6",
            "gridcolor": "white",
            "gridwidth": 2,
            "linecolor": "white",
            "showbackground": true,
            "ticks": "",
            "zerolinecolor": "white"
           }
          },
          "shapedefaults": {
           "line": {
            "color": "#2a3f5f"
           }
          },
          "ternary": {
           "aaxis": {
            "gridcolor": "white",
            "linecolor": "white",
            "ticks": ""
           },
           "baxis": {
            "gridcolor": "white",
            "linecolor": "white",
            "ticks": ""
           },
           "bgcolor": "#E5ECF6",
           "caxis": {
            "gridcolor": "white",
            "linecolor": "white",
            "ticks": ""
           }
          },
          "title": {
           "x": 0.05
          },
          "xaxis": {
           "automargin": true,
           "gridcolor": "white",
           "linecolor": "white",
           "ticks": "",
           "title": {
            "standoff": 15
           },
           "zerolinecolor": "white",
           "zerolinewidth": 2
          },
          "yaxis": {
           "automargin": true,
           "gridcolor": "white",
           "linecolor": "white",
           "ticks": "",
           "title": {
            "standoff": 15
           },
           "zerolinecolor": "white",
           "zerolinewidth": 2
          }
         }
        },
        "title": {
         "text": "KPIs"
        }
       }
      }
     },
     "metadata": {},
     "output_type": "display_data"
    }
   ],
   "source": [
    "# Load the dataframes and calculate the mean values for each\n",
    "\n",
    "def analyse(data_lol_1, columns):\n",
    "\n",
    "    summoner_name_1 = data_lol_1[\"summonerName\"][0]\n",
    "    data_lol_1 = data_lol_1[data_lol_1[\"gameDuration\"]>300]\n",
    "\n",
    "    data_lol_1[\"firstMetric\"] = (data_lol_1[\"kills\"] + data_lol_1[\"assists\"]) / (data_lol_1[\"ennemyTeamKills\"] + data_lol_1[\"kills\"] + data_lol_1[\"assists\"])\n",
    "\n",
    "    data_lol_1[\"secondMetric\"] = data_lol_1[\"deaths\"] / data_lol_1[\"ennemyTeamDeaths\"]\n",
    "\n",
    "    data_lol_1[\"thirdMetric\"] = data_lol_1[\"totalDamageDealtToChampions\"] / data_lol_1[\"ennemyTeamDamages\"]\n",
    "\n",
    "    data_lol_1[\"fourthMetric\"] = data_lol_1[\"damageTakenOnTeamPercentage\"]\n",
    "\n",
    "    data_lol_1[\"fifthMetric\"] = data_lol_1[\"goldPerMinute\"]* data_lol_1[\"gameDuration\"]/60 / data_lol_1[\"ennemyTeamGolds\"]\n",
    "\n",
    "    data_lol_1[\"sixthMetric\"] = data_lol_1[\"totalHeal\"] / data_lol_1[\"ennemyTeamDamages\"]\n",
    "\n",
    "    # playerDamageMitigated / ennemyTeamDamages\n",
    "\n",
    "    data_lol_1[\"eighthMetric\"] = (data_lol_1[\"neutralMinionsKilled\"] + data_lol_1[\"totalMinionsKilled\"]) / data_lol_1[\"ennemyTeamGolds\"] * 100\n",
    "\n",
    "    data_lol_1[\"ninthMetric\"] = data_lol_1[\"wardsPlaced\"] / data_lol_1[\"ennemyTeamWardPlaced\"]\n",
    "\n",
    "    data_lol_1[\"tenthMetric\"] = data_lol_1[\"wardTakedowns\"] / data_lol_1[\"ennemyTeamWardPlaced\"]\n",
    "\n",
    "    data_lol_1[\"eleventhMetric\"] = data_lol_1[\"champExperience\"] / data_lol_1[\"ennemyTeamTotalLvl\"]\n",
    "\n",
    "    data_lol_1[\"twelvthMetric\"] = data_lol_1[\"timeCCingOthers\"] / data_lol_1[\"ennemyTeamDeaths\"]\n",
    "\n",
    "    def calculate_means(df, columns):\n",
    "        return df[columns].mean()\n",
    "\n",
    "    data_1 = calculate_means(data_lol_1, columns)\n",
    "    first_row = data_1.iloc[[0]]\n",
    "    data_1 = pd.concat([data_1, first_row], ignore_index=True)\n",
    "    return data_1\n",
    "\n",
    "columns = [\"firstMetric\", \"secondMetric\", \"thirdMetric\", \"fourthMetric\", \"fifthMetric\", \"sixthMetric\", \"eighthMetric\", \"ninthMetric\", \"tenthMetric\", \"twelvthMetric\"]\n",
    "\n",
    "data_lol_1 = pd.read_pickle(\"pylol/GW/lol_df_Badlulu00.pkl\")\n",
    "summoner_name_1 = data_lol_1[\"summonerName\"][0]\n",
    "data_1 = analyse(data_lol_1, columns)\n",
    "\n",
    "data_lol_2 = pd.read_pickle(\"pylol/GW/lol_df_GW Villager.pkl\")\n",
    "summoner_name_2 = data_lol_2[\"summonerName\"][0]\n",
    "data_2 = analyse(data_lol_2, columns)\n",
    "\n",
    "data_lol_3 = pd.read_pickle(\"pylol/GW/lol_df_ayekasia.pkl\")\n",
    "summoner_name_3 = data_lol_3[\"summonerName\"][0]\n",
    "data_3 = analyse(data_lol_3, columns)\n",
    "\n",
    "data_lol_4 = pd.read_pickle(\"pylol/GW/lol_df_Practice.pkl\")\n",
    "summoner_name_4 = data_lol_4[\"summonerName\"][0]\n",
    "data_4 = analyse(data_lol_4, columns)\n",
    "\n",
    "data_lol_5 = pd.read_pickle(\"pylol/GW/lol_df_zrh2.pkl\")\n",
    "summoner_name_5 = data_lol_5[\"summonerName\"][0]\n",
    "data_5 = analyse(data_lol_5, columns)\n",
    "\n",
    "columns.append(columns[0])\n",
    "\n",
    "fig = go.Figure(\n",
    "    data=[\n",
    "        go.Scatterpolar(r=data_1, theta=columns, name=summoner_name_1),\n",
    "        go.Scatterpolar(r=data_2, theta=columns, name=summoner_name_2),\n",
    "        go.Scatterpolar(r=data_3, theta=columns, name=summoner_name_3),\n",
    "        go.Scatterpolar(r=data_4, theta=columns, name=summoner_name_4),\n",
    "        go.Scatterpolar(r=data_5, theta=columns, name=summoner_name_5),        \n",
    "        ],\n",
    "    layout=go.Layout(\n",
    "        title=go.layout.Title(text='KPIs'),\n",
    "        showlegend=True\n",
    "    )\n",
    ")\n",
    "fig.show()\n",
    "\n",
    "\n",
    "# # Load the dataframes and calculate the mean values for each\n",
    "# data_lol_2 = pd.read_pickle(\"pylol/GW/lol_df_Badlulu00.pkl\")\n",
    "# summoner_name_2 = data_lol_1[\"summonerName\"][0]\n",
    "# data_lol_2 = data_lol_2[data_lol_2[\"gameDuration\"]>300]\n",
    "# data_lol_2[\"firstMetric\"] = (data_lol_2[\"kills\"] + data_lol_2[\"assists\"]) / (data_lol_2[\"ennemyTeamKills\"] + data_lol_2[\"kills\"] + data_lol_2[\"assists\"])\n",
    "# print(data_lol_2[\"firstMetric\"].mean())\n",
    "\n",
    "# # Load the dataframes and calculate the mean values for each\n",
    "# data_lol_3 = pd.read_pickle(\"pylol/GW/lol_df_GW Villager.pkl\")\n",
    "# summoner_name_3 = data_lol_3[\"summonerName\"][0]\n",
    "# data_lol_3 = data_lol_3[data_lol_3[\"gameDuration\"]>300]\n",
    "# data_lol_3[\"firstMetric\"] = (data_lol_3[\"kills\"] + data_lol_3[\"assists\"]) / (data_lol_3[\"ennemyTeamKills\"] + data_lol_3[\"kills\"] + data_lol_3[\"assists\"])\n",
    "# print(data_lol_3[\"firstMetric\"].mean())\n",
    "\n",
    "# # Load the dataframes and calculate the mean values for each\n",
    "# data_lol_4 = pd.read_pickle(\"pylol/GW/lol_df_Practice.pkl\")\n",
    "# summoner_name_4 = data_lol_4[\"summonerName\"][0]\n",
    "# data_lol_4 = data_lol_4[data_lol_4[\"gameDuration\"]>300]\n",
    "# data_lol_4[\"firstMetric\"] = (data_lol_4[\"kills\"] + data_lol_4[\"assists\"]) / (data_lol_4[\"ennemyTeamKills\"] + data_lol_4[\"kills\"] + data_lol_4[\"assists\"])\n",
    "# print(data_lol_4[\"firstMetric\"].mean())\n",
    "\n",
    "# # Load the dataframes and calculate the mean values for each\n",
    "# data_lol_5 = pd.read_pickle(\"pylol/GW/lol_df_zrh2.pkl\")\n",
    "# summoner_name_5 = data_lol_5[\"summonerName\"][0]\n",
    "# data_lol_5 = data_lol_5[data_lol_5[\"gameDuration\"]>300]\n",
    "# data_lol_5[\"firstMetric\"] = (data_lol_5[\"kills\"] + data_lol_5[\"assists\"]) / (data_lol_5[\"ennemyTeamKills\"] + data_lol_5[\"kills\"] + data_lol_5[\"assists\"])\n",
    "# data_lol_5[\"firstMetric\"].mean()\n",
    "\n"
   ]
  }
 ],
 "metadata": {
  "kernelspec": {
   "display_name": "base",
   "language": "python",
   "name": "python3"
  },
  "language_info": {
   "codemirror_mode": {
    "name": "ipython",
    "version": 3
   },
   "file_extension": ".py",
   "mimetype": "text/x-python",
   "name": "python",
   "nbconvert_exporter": "python",
   "pygments_lexer": "ipython3",
   "version": "3.10.9"
  },
  "orig_nbformat": 4
 },
 "nbformat": 4,
 "nbformat_minor": 2
}
