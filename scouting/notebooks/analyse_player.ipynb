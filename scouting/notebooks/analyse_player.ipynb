{
 "cells": [
  {
   "cell_type": "markdown",
   "metadata": {},
   "source": [
    "## Definition de la fonction"
   ]
  },
  {
   "cell_type": "code",
   "execution_count": 10,
   "metadata": {},
   "outputs": [],
   "source": [
    "import pandas as pd\n",
    "\n",
    "def add_metrics(data_lol_1):\n",
    "    summoner_name_1 = data_lol_1[\"summonerName\"][0]\n",
    "    data_lol_1 = data_lol_1[data_lol_1[\"gameDuration\"] > 300].copy()\n",
    "\n",
    "    data_lol_1.loc[:, \"firstMetric\"] = (data_lol_1[\"kills\"] + data_lol_1[\"assists\"]) / (data_lol_1[\"ennemyTeamKills\"] + data_lol_1[\"kills\"] + data_lol_1[\"assists\"])\n",
    "\n",
    "    data_lol_1.loc[:, \"secondMetric\"] = data_lol_1[\"deaths\"] / data_lol_1[\"ennemyTeamDeaths\"]\n",
    "\n",
    "    data_lol_1.loc[:, \"thirdMetric\"] = data_lol_1[\"totalDamageDealtToChampions\"] / data_lol_1[\"ennemyTeamDamages\"]\n",
    "\n",
    "    data_lol_1.loc[:, \"fourthMetric\"] = data_lol_1[\"damageTakenOnTeamPercentage\"]\n",
    "\n",
    "    data_lol_1.loc[:, \"fifthMetric\"] = data_lol_1[\"goldPerMinute\"] * data_lol_1[\"gameDuration\"] / 60 / data_lol_1[\"ennemyTeamGolds\"]\n",
    "\n",
    "    data_lol_1.loc[:, \"sixthMetric\"] = data_lol_1[\"totalHeal\"] / data_lol_1[\"ennemyTeamDamages\"]\n",
    "\n",
    "    # playerDamageMitigated / ennemyTeamDamages\n",
    "\n",
    "    data_lol_1.loc[:, \"eighthMetric\"] = (data_lol_1[\"neutralMinionsKilled\"] + data_lol_1[\"totalMinionsKilled\"]) / data_lol_1[\"ennemyTeamGolds\"] * 100\n",
    "\n",
    "    data_lol_1.loc[:, \"ninthMetric\"] = data_lol_1[\"wardsPlaced\"] / data_lol_1[\"ennemyTeamWardPlaced\"]\n",
    "\n",
    "    data_lol_1.loc[:, \"tenthMetric\"] = data_lol_1[\"wardTakedowns\"] / data_lol_1[\"ennemyTeamWardPlaced\"]\n",
    "\n",
    "    data_lol_1.loc[:, \"eleventhMetric\"] = data_lol_1[\"champExperience\"] / data_lol_1[\"ennemyTeamTotalLvl\"]\n",
    "\n",
    "    data_lol_1.loc[:, \"twelvthMetric\"] = data_lol_1[\"timeCCingOthers\"] / data_lol_1[\"ennemyTeamDeaths\"]\n",
    "\n",
    "    return data_lol_1"
   ]
  },
  {
   "cell_type": "markdown",
   "metadata": {},
   "source": [
    "## Importation du dataset"
   ]
  },
  {
   "cell_type": "code",
   "execution_count": 11,
   "metadata": {},
   "outputs": [
    {
     "name": "stdout",
     "output_type": "stream",
     "text": [
      "Chemin du dossier parent : /Users/atysp/Desktop/Avisia/projet_lol/scouting\n",
      "(100, 86)\n"
     ]
    }
   ],
   "source": [
    "import os\n",
    "import pandas as pd\n",
    "\n",
    "# Chemin absolu du dossier courant\n",
    "chemin_scouting = os.path.abspath('..')\n",
    "\n",
    "print(\"Chemin du dossier parent :\", chemin_scouting)\n",
    "\n",
    "chemin_data = chemin_scouting + \"/datas/matches/equipes/KC/lol_df_KC NEXT ADKING.pkl\"\n",
    "\n",
    "data_lol = pd.read_pickle(chemin_data) # dataset\n",
    "\n",
    "data_lol = add_metrics(data_lol)\n",
    "print(data_lol.shape)"
   ]
  },
  {
   "cell_type": "markdown",
   "metadata": {},
   "source": [
    "## Calcul des coefficients de corrélation pour chaque variable"
   ]
  },
  {
   "cell_type": "code",
   "execution_count": 12,
   "metadata": {},
   "outputs": [
    {
     "name": "stdout",
     "output_type": "stream",
     "text": [
      "Corrélation de point-biserial : {'firstMetric': SignificanceResult(statistic=0.4745462885786957, pvalue=6.102909280537261e-07), 'secondMetric': SignificanceResult(statistic=-0.35413745343019043, pvalue=0.0003006566366710498), 'thirdMetric': SignificanceResult(statistic=0.29349074884270443, pvalue=0.0030409930729756586), 'fourthMetric': SignificanceResult(statistic=-0.02400417164300838, pvalue=0.8126118375649606), 'fifthMetric': SignificanceResult(statistic=0.4504816558066639, pvalue=2.56510033464777e-06), 'sixthMetric': SignificanceResult(statistic=0.08445508788339293, pvalue=0.4034774751330919), 'eighthMetric': SignificanceResult(statistic=0.07313185551292381, pvalue=0.4696226730125897), 'ninthMetric': SignificanceResult(statistic=0.2877019476838458, pvalue=0.0037022134193212494), 'tenthMetric': SignificanceResult(statistic=0.016379295123934594, pvalue=0.8715070582591674), 'twelvthMetric': SignificanceResult(statistic=0.16049602512904532, pvalue=0.11068069043309267)}\n",
      "firstMetric\n",
      "SignificanceResult(statistic=0.4745462885786957, pvalue=6.102909280537261e-07)\n",
      "\n",
      "secondMetric\n",
      "SignificanceResult(statistic=-0.35413745343019043, pvalue=0.0003006566366710498)\n",
      "\n",
      "thirdMetric\n",
      "SignificanceResult(statistic=0.29349074884270443, pvalue=0.0030409930729756586)\n",
      "\n",
      "fourthMetric\n",
      "SignificanceResult(statistic=-0.02400417164300838, pvalue=0.8126118375649606)\n",
      "\n",
      "fifthMetric\n",
      "SignificanceResult(statistic=0.4504816558066639, pvalue=2.56510033464777e-06)\n",
      "\n",
      "sixthMetric\n",
      "SignificanceResult(statistic=0.08445508788339293, pvalue=0.4034774751330919)\n",
      "\n",
      "eighthMetric\n",
      "SignificanceResult(statistic=0.07313185551292381, pvalue=0.4696226730125897)\n",
      "\n",
      "ninthMetric\n",
      "SignificanceResult(statistic=0.2877019476838458, pvalue=0.0037022134193212494)\n",
      "\n",
      "tenthMetric\n",
      "SignificanceResult(statistic=0.016379295123934594, pvalue=0.8715070582591674)\n",
      "\n",
      "twelvthMetric\n",
      "SignificanceResult(statistic=0.16049602512904532, pvalue=0.11068069043309267)\n",
      "\n"
     ]
    }
   ],
   "source": [
    "import pandas as pd\n",
    "from scipy.stats import pointbiserialr\n",
    "\n",
    "# List of required columns including \"win\"\n",
    "required_columns = [\"firstMetric\", \"secondMetric\", \"thirdMetric\", \"fourthMetric\", \"fifthMetric\", \"sixthMetric\", \"eighthMetric\", \"ninthMetric\", \"tenthMetric\", \"twelvthMetric\", \"win\"]\n",
    "\n",
    "# Check if all required columns exist in the DataFrame\n",
    "if not all(col in data_lol.columns for col in required_columns):\n",
    "    raise ValueError(\"Certaines colonnes ou la variable 'win' ne sont pas présentes dans le DataFrame.\")\n",
    "\n",
    "# Select the required columns in the DataFrame\n",
    "data_lol = data_lol[required_columns]\n",
    "\n",
    "correlation_coefficients = {}\n",
    "for col in data_lol.columns[:-1]:\n",
    "    x = data_lol[col]\n",
    "    y = data_lol[\"win\"]\n",
    "    correlation_coefficients[col] = pointbiserialr(x, y)\n",
    "\n",
    "print(\"Corrélation de point-biserial :\", correlation_coefficients)\n",
    "for key in correlation_coefficients.keys():\n",
    "    print(key)\n",
    "    print(correlation_coefficients[key])\n",
    "\n",
    "    print()"
   ]
  },
  {
   "cell_type": "markdown",
   "metadata": {},
   "source": [
    "\n",
    "Corrélation de point-biserial : \n",
    "Le coefficient de corrélation de point-biserial est une mesure de la force et de la direction de la corrélation linéaire entre les deux variables. Dans ce cas, le coefficient est d'environ 0.735. Comme il est positif, cela indique une corrélation positive entre les variables \"x\" et \"y\". Une corrélation positive signifie que lorsque les valeurs de \"x\" augmentent, les valeurs de \"y\" ont tendance à augmenter également. Plus le coefficient est proche de 1 (ou -1 pour une corrélation négative), plus la corrélation est forte.\n",
    "\n",
    "P-valeur : \n",
    "La p-valeur est une mesure de la significativité statistique de la corrélation. En général, on utilise un seuil de signification de 0,05 (5 %) pour déterminer si la corrélation est statistiquement significative. Si la p-valeur est inférieure à 0,05, on considère que la corrélation est statistiquement significative."
   ]
  },
  {
   "cell_type": "markdown",
   "metadata": {},
   "source": [
    "##  Calcul du score par match"
   ]
  },
  {
   "cell_type": "code",
   "execution_count": 13,
   "metadata": {},
   "outputs": [],
   "source": [
    "data_lol_standardized = data_lol[required_columns[:-1]]\n",
    "\n",
    "means = data_lol_standardized.mean()\n",
    "stds = data_lol_standardized.std()\n",
    "\n",
    "# Standardisation des colonnes\n",
    "data_lol_standardized = (data_lol_standardized - means) / stds\n",
    "\n",
    "# Remplacement des colonnes d'origine par les colonnes standardisées dans le DataFrame \"data\"\n",
    "data_lol[required_columns[:-1]] = data_lol_standardized"
   ]
  },
  {
   "cell_type": "code",
   "execution_count": 14,
   "metadata": {},
   "outputs": [],
   "source": [
    "for key in correlation_coefficients.keys():\n",
    "    data_lol_standardized[key]==data_lol_standardized[key] * correlation_coefficients[key][0]"
   ]
  },
  {
   "cell_type": "code",
   "execution_count": 15,
   "metadata": {},
   "outputs": [
    {
     "data": {
      "text/plain": [
       "1.4625412794880075"
      ]
     },
     "execution_count": 15,
     "metadata": {},
     "output_type": "execute_result"
    }
   ],
   "source": [
    "sum = 0 \n",
    "for key in correlation_coefficients.keys():\n",
    "    sum+= correlation_coefficients[key][0]\n",
    "sum"
   ]
  },
  {
   "cell_type": "code",
   "execution_count": 16,
   "metadata": {},
   "outputs": [
    {
     "data": {
      "text/html": [
       "<div>\n",
       "<style scoped>\n",
       "    .dataframe tbody tr th:only-of-type {\n",
       "        vertical-align: middle;\n",
       "    }\n",
       "\n",
       "    .dataframe tbody tr th {\n",
       "        vertical-align: top;\n",
       "    }\n",
       "\n",
       "    .dataframe thead th {\n",
       "        text-align: right;\n",
       "    }\n",
       "</style>\n",
       "<table border=\"1\" class=\"dataframe\">\n",
       "  <thead>\n",
       "    <tr style=\"text-align: right;\">\n",
       "      <th></th>\n",
       "      <th>firstMetric</th>\n",
       "      <th>secondMetric</th>\n",
       "      <th>thirdMetric</th>\n",
       "      <th>fourthMetric</th>\n",
       "      <th>fifthMetric</th>\n",
       "      <th>sixthMetric</th>\n",
       "      <th>eighthMetric</th>\n",
       "      <th>ninthMetric</th>\n",
       "      <th>tenthMetric</th>\n",
       "      <th>twelvthMetric</th>\n",
       "    </tr>\n",
       "  </thead>\n",
       "  <tbody>\n",
       "    <tr>\n",
       "      <th>0</th>\n",
       "      <td>-1.668365</td>\n",
       "      <td>0.685954</td>\n",
       "      <td>-1.733226</td>\n",
       "      <td>-1.193758</td>\n",
       "      <td>-1.046516</td>\n",
       "      <td>-0.50729</td>\n",
       "      <td>-0.409938</td>\n",
       "      <td>-0.20952</td>\n",
       "      <td>-0.986216</td>\n",
       "      <td>-0.658175</td>\n",
       "    </tr>\n",
       "    <tr>\n",
       "      <th>1</th>\n",
       "      <td>-0.452041</td>\n",
       "      <td>-0.48856</td>\n",
       "      <td>-1.035563</td>\n",
       "      <td>-2.007389</td>\n",
       "      <td>-0.559449</td>\n",
       "      <td>-0.729324</td>\n",
       "      <td>0.208588</td>\n",
       "      <td>-0.414811</td>\n",
       "      <td>-0.217012</td>\n",
       "      <td>1.129156</td>\n",
       "    </tr>\n",
       "    <tr>\n",
       "      <th>2</th>\n",
       "      <td>-0.925056</td>\n",
       "      <td>-0.249307</td>\n",
       "      <td>-1.038519</td>\n",
       "      <td>-0.10103</td>\n",
       "      <td>-0.124819</td>\n",
       "      <td>-0.539146</td>\n",
       "      <td>1.305161</td>\n",
       "      <td>0.547703</td>\n",
       "      <td>0.110845</td>\n",
       "      <td>-0.770536</td>\n",
       "    </tr>\n",
       "    <tr>\n",
       "      <th>3</th>\n",
       "      <td>-0.085837</td>\n",
       "      <td>-0.249307</td>\n",
       "      <td>0.488869</td>\n",
       "      <td>-0.170569</td>\n",
       "      <td>0.901001</td>\n",
       "      <td>0.601117</td>\n",
       "      <td>0.27323</td>\n",
       "      <td>0.157072</td>\n",
       "      <td>1.601106</td>\n",
       "      <td>-0.3629</td>\n",
       "    </tr>\n",
       "    <tr>\n",
       "      <th>4</th>\n",
       "      <td>-0.512107</td>\n",
       "      <td>1.551385</td>\n",
       "      <td>0.109918</td>\n",
       "      <td>1.279753</td>\n",
       "      <td>-0.590297</td>\n",
       "      <td>-0.40686</td>\n",
       "      <td>-0.041128</td>\n",
       "      <td>0.157072</td>\n",
       "      <td>-0.114975</td>\n",
       "      <td>-0.168021</td>\n",
       "    </tr>\n",
       "    <tr>\n",
       "      <th>...</th>\n",
       "      <td>...</td>\n",
       "      <td>...</td>\n",
       "      <td>...</td>\n",
       "      <td>...</td>\n",
       "      <td>...</td>\n",
       "      <td>...</td>\n",
       "      <td>...</td>\n",
       "      <td>...</td>\n",
       "      <td>...</td>\n",
       "      <td>...</td>\n",
       "    </tr>\n",
       "    <tr>\n",
       "      <th>95</th>\n",
       "      <td>-0.88966</td>\n",
       "      <td>1.972326</td>\n",
       "      <td>-0.493883</td>\n",
       "      <td>0.553417</td>\n",
       "      <td>-1.165947</td>\n",
       "      <td>-0.538608</td>\n",
       "      <td>-0.617364</td>\n",
       "      <td>-0.919053</td>\n",
       "      <td>-0.608704</td>\n",
       "      <td>0.195175</td>\n",
       "    </tr>\n",
       "    <tr>\n",
       "      <th>96</th>\n",
       "      <td>0.448939</td>\n",
       "      <td>-1.271569</td>\n",
       "      <td>0.355483</td>\n",
       "      <td>0.648124</td>\n",
       "      <td>1.032959</td>\n",
       "      <td>2.278499</td>\n",
       "      <td>1.162399</td>\n",
       "      <td>-0.457856</td>\n",
       "      <td>0.082516</td>\n",
       "      <td>-0.564105</td>\n",
       "    </tr>\n",
       "    <tr>\n",
       "      <th>97</th>\n",
       "      <td>-0.013451</td>\n",
       "      <td>0.212027</td>\n",
       "      <td>0.600477</td>\n",
       "      <td>0.697743</td>\n",
       "      <td>0.148297</td>\n",
       "      <td>0.143937</td>\n",
       "      <td>-0.547238</td>\n",
       "      <td>-1.544962</td>\n",
       "      <td>0.038081</td>\n",
       "      <td>-0.489839</td>\n",
       "    </tr>\n",
       "    <tr>\n",
       "      <th>98</th>\n",
       "      <td>0.148612</td>\n",
       "      <td>-0.335362</td>\n",
       "      <td>0.492495</td>\n",
       "      <td>-0.512619</td>\n",
       "      <td>-0.343087</td>\n",
       "      <td>-0.515796</td>\n",
       "      <td>0.002583</td>\n",
       "      <td>0.890256</td>\n",
       "      <td>-0.821387</td>\n",
       "      <td>-0.727705</td>\n",
       "    </tr>\n",
       "    <tr>\n",
       "      <th>99</th>\n",
       "      <td>-0.617822</td>\n",
       "      <td>1.11305</td>\n",
       "      <td>0.427267</td>\n",
       "      <td>0.819357</td>\n",
       "      <td>-0.653996</td>\n",
       "      <td>-0.997128</td>\n",
       "      <td>-1.412392</td>\n",
       "      <td>-0.152389</td>\n",
       "      <td>0.024167</td>\n",
       "      <td>-0.718038</td>\n",
       "    </tr>\n",
       "  </tbody>\n",
       "</table>\n",
       "<p>100 rows × 10 columns</p>\n",
       "</div>"
      ],
      "text/plain": [
       "    firstMetric  secondMetric  thirdMetric  fourthMetric  fifthMetric  \\\n",
       "0     -1.668365      0.685954    -1.733226     -1.193758    -1.046516   \n",
       "1     -0.452041      -0.48856    -1.035563     -2.007389    -0.559449   \n",
       "2     -0.925056     -0.249307    -1.038519      -0.10103    -0.124819   \n",
       "3     -0.085837     -0.249307     0.488869     -0.170569     0.901001   \n",
       "4     -0.512107      1.551385     0.109918      1.279753    -0.590297   \n",
       "..          ...           ...          ...           ...          ...   \n",
       "95     -0.88966      1.972326    -0.493883      0.553417    -1.165947   \n",
       "96     0.448939     -1.271569     0.355483      0.648124     1.032959   \n",
       "97    -0.013451      0.212027     0.600477      0.697743     0.148297   \n",
       "98     0.148612     -0.335362     0.492495     -0.512619    -0.343087   \n",
       "99    -0.617822       1.11305     0.427267      0.819357    -0.653996   \n",
       "\n",
       "    sixthMetric  eighthMetric  ninthMetric  tenthMetric  twelvthMetric  \n",
       "0      -0.50729     -0.409938     -0.20952    -0.986216      -0.658175  \n",
       "1     -0.729324      0.208588    -0.414811    -0.217012       1.129156  \n",
       "2     -0.539146      1.305161     0.547703     0.110845      -0.770536  \n",
       "3      0.601117       0.27323     0.157072     1.601106        -0.3629  \n",
       "4      -0.40686     -0.041128     0.157072    -0.114975      -0.168021  \n",
       "..          ...           ...          ...          ...            ...  \n",
       "95    -0.538608     -0.617364    -0.919053    -0.608704       0.195175  \n",
       "96     2.278499      1.162399    -0.457856     0.082516      -0.564105  \n",
       "97     0.143937     -0.547238    -1.544962     0.038081      -0.489839  \n",
       "98    -0.515796      0.002583     0.890256    -0.821387      -0.727705  \n",
       "99    -0.997128     -1.412392    -0.152389     0.024167      -0.718038  \n",
       "\n",
       "[100 rows x 10 columns]"
      ]
     },
     "execution_count": 16,
     "metadata": {},
     "output_type": "execute_result"
    }
   ],
   "source": [
    "data_lol_standardized[key] / sum\n",
    "data_lol_standardized"
   ]
  },
  {
   "cell_type": "code",
   "execution_count": 17,
   "metadata": {},
   "outputs": [
    {
     "data": {
      "text/plain": [
       "0    -7.727049\n",
       "1    -4.566405\n",
       "2    -1.784704\n",
       "3     3.153784\n",
       "4     1.264741\n",
       "        ...   \n",
       "95   -2.512301\n",
       "96    3.715388\n",
       "97   -0.754928\n",
       "98   -1.722009\n",
       "99   -2.167923\n",
       "Length: 100, dtype: float64"
      ]
     },
     "execution_count": 17,
     "metadata": {},
     "output_type": "execute_result"
    }
   ],
   "source": [
    "data= data_lol_standardized.sum(axis=1)"
   ]
  },
  {
   "cell_type": "code",
   "execution_count": 19,
   "metadata": {},
   "outputs": [
    {
     "data": {
      "text/plain": [
       "11.852712200142655"
      ]
     },
     "execution_count": 19,
     "metadata": {},
     "output_type": "execute_result"
    }
   ],
   "source": [
    "data.max()"
   ]
  },
  {
   "cell_type": "code",
   "execution_count": 20,
   "metadata": {},
   "outputs": [
    {
     "data": {
      "text/plain": [
       "-7.792004482892481"
      ]
     },
     "execution_count": 20,
     "metadata": {},
     "output_type": "execute_result"
    }
   ],
   "source": [
    "data.min()"
   ]
  },
  {
   "cell_type": "code",
   "execution_count": null,
   "metadata": {},
   "outputs": [],
   "source": []
  }
 ],
 "metadata": {
  "kernelspec": {
   "display_name": "base",
   "language": "python",
   "name": "python3"
  },
  "language_info": {
   "codemirror_mode": {
    "name": "ipython",
    "version": 3
   },
   "file_extension": ".py",
   "mimetype": "text/x-python",
   "name": "python",
   "nbconvert_exporter": "python",
   "pygments_lexer": "ipython3",
   "version": "3.10.9"
  },
  "orig_nbformat": 4
 },
 "nbformat": 4,
 "nbformat_minor": 2
}
